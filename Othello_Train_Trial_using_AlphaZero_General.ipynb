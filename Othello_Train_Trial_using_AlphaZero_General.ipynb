{
  "nbformat": 4,
  "nbformat_minor": 0,
  "metadata": {
    "colab": {
      "name": "Othello Train Trial using AlphaZero General.ipynb",
      "provenance": [],
      "collapsed_sections": [],
      "machine_shape": "hm",
      "include_colab_link": true
    },
    "kernelspec": {
      "name": "python3",
      "display_name": "Python 3"
    },
    "accelerator": "GPU"
  },
  "cells": [
    {
      "cell_type": "markdown",
      "metadata": {
        "id": "view-in-github",
        "colab_type": "text"
      },
      "source": [
        "<a href=\"https://colab.research.google.com/github/andrewfeikema/alpha-zero-general/blob/master/Othello_Train_Trial_using_AlphaZero_General.ipynb\" target=\"_parent\"><img src=\"https://colab.research.google.com/assets/colab-badge.svg\" alt=\"Open In Colab\"/></a>"
      ]
    },
    {
      "cell_type": "markdown",
      "metadata": {
        "id": "HkvJ-kBlWXHW"
      },
      "source": [
        "# **Setup, install dependencies**"
      ]
    },
    {
      "cell_type": "code",
      "metadata": {
        "id": "Ji7OkVsnExHk",
        "colab": {
          "base_uri": "https://localhost:8080/"
        },
        "outputId": "db97c0e1-176a-487e-bce5-1ea628f4ba08"
      },
      "source": [
        "# Clone repo and install requirements\n",
        "\n",
        "!git clone https://github.com/andrewfeikema/alpha-zero-general.git"
      ],
      "execution_count": 1,
      "outputs": [
        {
          "output_type": "stream",
          "text": [
            "Cloning into 'alpha-zero-general'...\n",
            "remote: Enumerating objects: 1160, done.\u001b[K\n",
            "remote: Counting objects: 100% (109/109), done.\u001b[K\n",
            "remote: Compressing objects: 100% (66/66), done.\u001b[K\n",
            "remote: Total 1160 (delta 47), reused 95 (delta 39), pack-reused 1051\u001b[K\n",
            "Receiving objects: 100% (1160/1160), 992.12 MiB | 26.17 MiB/s, done.\n",
            "Resolving deltas: 100% (623/623), done.\n",
            "Checking out files: 100% (62/62), done.\n"
          ],
          "name": "stdout"
        }
      ]
    },
    {
      "cell_type": "code",
      "metadata": {
        "id": "SadDZdC2lQXS",
        "colab": {
          "base_uri": "https://localhost:8080/"
        },
        "outputId": "6bb385ba-646b-42ac-dc87-73172de96f51"
      },
      "source": [
        "%cd '/content/alpha-zero-general'"
      ],
      "execution_count": 2,
      "outputs": [
        {
          "output_type": "stream",
          "text": [
            "/content/alpha-zero-general\n"
          ],
          "name": "stdout"
        }
      ]
    },
    {
      "cell_type": "code",
      "metadata": {
        "id": "AvtLNTQTWl4c",
        "colab": {
          "base_uri": "https://localhost:8080/"
        },
        "outputId": "d49681cd-7e72-4db8-f2ef-27e0f119934a"
      },
      "source": [
        "!git checkout -t origin/master"
      ],
      "execution_count": 3,
      "outputs": [
        {
          "output_type": "stream",
          "text": [
            "fatal: A branch named 'master' already exists.\n"
          ],
          "name": "stdout"
        }
      ]
    },
    {
      "cell_type": "code",
      "metadata": {
        "id": "w1483UJ1lS3J",
        "colab": {
          "base_uri": "https://localhost:8080/"
        },
        "outputId": "13663b4d-de84-4043-9c88-08f083f9c977"
      },
      "source": [
        "!pip install -r docker/requirements.txt"
      ],
      "execution_count": 4,
      "outputs": [
        {
          "output_type": "stream",
          "text": [
            "Requirement already satisfied: cffi==1.14.5 in /usr/local/lib/python3.7/dist-packages (from -r docker/requirements.txt (line 1)) (1.14.5)\n",
            "Collecting coloredlogs==14.0\n",
            "\u001b[?25l  Downloading https://files.pythonhosted.org/packages/5c/2f/12747be360d6dea432e7b5dfae3419132cb008535cfe614af73b9ce2643b/coloredlogs-14.0-py2.py3-none-any.whl (43kB)\n",
            "\u001b[K     |████████████████████████████████| 51kB 3.1MB/s \n",
            "\u001b[?25hCollecting cython==0.29.22\n",
            "\u001b[?25l  Downloading https://files.pythonhosted.org/packages/74/c8/fa46acc8f829b64161a43315f42d2170de8ac961b251654cd81256520d98/Cython-0.29.22-cp37-cp37m-manylinux1_x86_64.whl (2.0MB)\n",
            "\u001b[K     |████████████████████████████████| 2.0MB 5.8MB/s \n",
            "\u001b[?25hRequirement already satisfied: flask==1.1.2 in /usr/local/lib/python3.7/dist-packages (from -r docker/requirements.txt (line 4)) (1.1.2)\n",
            "Collecting gitpython==2.1.11\n",
            "\u001b[?25l  Downloading https://files.pythonhosted.org/packages/fe/e5/fafe827507644c32d6dc553a1c435cdf882e0c28918a5bab29f7fbebfb70/GitPython-2.1.11-py2.py3-none-any.whl (448kB)\n",
            "\u001b[K     |████████████████████████████████| 450kB 50.3MB/s \n",
            "\u001b[?25hRequirement already satisfied: matplotlib==3.2.2 in /usr/local/lib/python3.7/dist-packages (from -r docker/requirements.txt (line 6)) (3.2.2)\n",
            "Requirement already satisfied: numpy==1.19.5 in /usr/local/lib/python3.7/dist-packages (from -r docker/requirements.txt (line 7)) (1.19.5)\n",
            "Requirement already satisfied: pandas==1.1.5 in /usr/local/lib/python3.7/dist-packages (from -r docker/requirements.txt (line 8)) (1.1.5)\n",
            "Collecting scipy==1.1.0\n",
            "\u001b[?25l  Downloading https://files.pythonhosted.org/packages/40/de/0c22c6754370ba6b1fa8e53bd6e514d4a41a181125d405a501c215cbdbd6/scipy-1.1.0-cp37-cp37m-manylinux1_x86_64.whl (31.2MB)\n",
            "\u001b[K     |████████████████████████████████| 31.2MB 165kB/s \n",
            "\u001b[?25hCollecting scikit-learn==0.19.1\n",
            "\u001b[?25l  Downloading https://files.pythonhosted.org/packages/f5/2c/5edf2488897cad4fb8c4ace86369833552615bf264460ae4ef6e1f258982/scikit-learn-0.19.1.tar.gz (9.5MB)\n",
            "\u001b[K     |████████████████████████████████| 9.5MB 54.7MB/s \n",
            "\u001b[?25hCollecting scikit-image==0.14.0\n",
            "\u001b[?25l  Downloading https://files.pythonhosted.org/packages/d6/ae/c9ea76fb37724596bd031e98f7f356936cabc39e5c57f27d56f08e6d52f2/scikit_image-0.14.0-cp37-cp37m-manylinux1_x86_64.whl (25.3MB)\n",
            "\u001b[K     |████████████████████████████████| 25.3MB 1.5MB/s \n",
            "\u001b[?25hCollecting torchfile==0.1.0\n",
            "  Downloading https://files.pythonhosted.org/packages/91/af/5b305f86f2d218091af657ddb53f984ecbd9518ca9fe8ef4103a007252c9/torchfile-0.1.0.tar.gz\n",
            "Collecting torchvision==0.2.1\n",
            "\u001b[?25l  Downloading https://files.pythonhosted.org/packages/ca/0d/f00b2885711e08bd71242ebe7b96561e6f6d01fdb4b9dcf4d37e2e13c5e1/torchvision-0.2.1-py2.py3-none-any.whl (54kB)\n",
            "\u001b[K     |████████████████████████████████| 61kB 9.5MB/s \n",
            "\u001b[?25hCollecting tqdm==4.19.5\n",
            "\u001b[?25l  Downloading https://files.pythonhosted.org/packages/71/3c/341b4fa23cb3abc335207dba057c790f3bb329f6757e1fcd5d347bcf8308/tqdm-4.19.5-py2.py3-none-any.whl (51kB)\n",
            "\u001b[K     |████████████████████████████████| 61kB 8.9MB/s \n",
            "\u001b[?25hCollecting visdom==0.1.7\n",
            "\u001b[?25l  Downloading https://files.pythonhosted.org/packages/0e/f2/27b5d7c34b718afb355587d4e0c1f9108e925db4c0c932e935ba01051efd/visdom-0.1.7.tar.gz (43kB)\n",
            "\u001b[K     |████████████████████████████████| 51kB 7.9MB/s \n",
            "\u001b[?25hRequirement already satisfied: pycparser in /usr/local/lib/python3.7/dist-packages (from cffi==1.14.5->-r docker/requirements.txt (line 1)) (2.20)\n",
            "Collecting humanfriendly>=7.1\n",
            "\u001b[?25l  Downloading https://files.pythonhosted.org/packages/93/66/363d01a81da2108a5cf446daf619779f06d49a0c4426dd02b40734f10e2f/humanfriendly-9.1-py2.py3-none-any.whl (86kB)\n",
            "\u001b[K     |████████████████████████████████| 92kB 12.4MB/s \n",
            "\u001b[?25hRequirement already satisfied: click>=5.1 in /usr/local/lib/python3.7/dist-packages (from flask==1.1.2->-r docker/requirements.txt (line 4)) (7.1.2)\n",
            "Requirement already satisfied: itsdangerous>=0.24 in /usr/local/lib/python3.7/dist-packages (from flask==1.1.2->-r docker/requirements.txt (line 4)) (1.1.0)\n",
            "Requirement already satisfied: Werkzeug>=0.15 in /usr/local/lib/python3.7/dist-packages (from flask==1.1.2->-r docker/requirements.txt (line 4)) (1.0.1)\n",
            "Requirement already satisfied: Jinja2>=2.10.1 in /usr/local/lib/python3.7/dist-packages (from flask==1.1.2->-r docker/requirements.txt (line 4)) (2.11.3)\n",
            "Collecting gitdb2>=2.0.0\n",
            "  Downloading https://files.pythonhosted.org/packages/52/7e/59f96b47f671b3fe0aa0c1b609531a540434b719a10c417581e25b383909/gitdb2-4.0.2-py3-none-any.whl\n",
            "Requirement already satisfied: kiwisolver>=1.0.1 in /usr/local/lib/python3.7/dist-packages (from matplotlib==3.2.2->-r docker/requirements.txt (line 6)) (1.3.1)\n",
            "Requirement already satisfied: pyparsing!=2.0.4,!=2.1.2,!=2.1.6,>=2.0.1 in /usr/local/lib/python3.7/dist-packages (from matplotlib==3.2.2->-r docker/requirements.txt (line 6)) (2.4.7)\n",
            "Requirement already satisfied: python-dateutil>=2.1 in /usr/local/lib/python3.7/dist-packages (from matplotlib==3.2.2->-r docker/requirements.txt (line 6)) (2.8.1)\n",
            "Requirement already satisfied: cycler>=0.10 in /usr/local/lib/python3.7/dist-packages (from matplotlib==3.2.2->-r docker/requirements.txt (line 6)) (0.10.0)\n",
            "Requirement already satisfied: pytz>=2017.2 in /usr/local/lib/python3.7/dist-packages (from pandas==1.1.5->-r docker/requirements.txt (line 8)) (2018.9)\n",
            "Requirement already satisfied: six>=1.10.0 in /usr/local/lib/python3.7/dist-packages (from scikit-image==0.14.0->-r docker/requirements.txt (line 11)) (1.15.0)\n",
            "Requirement already satisfied: pillow>=4.3.0 in /usr/local/lib/python3.7/dist-packages (from scikit-image==0.14.0->-r docker/requirements.txt (line 11)) (7.1.2)\n",
            "Requirement already satisfied: cloudpickle>=0.2.1 in /usr/local/lib/python3.7/dist-packages (from scikit-image==0.14.0->-r docker/requirements.txt (line 11)) (1.3.0)\n",
            "Requirement already satisfied: networkx>=1.8 in /usr/local/lib/python3.7/dist-packages (from scikit-image==0.14.0->-r docker/requirements.txt (line 11)) (2.5.1)\n",
            "Requirement already satisfied: PyWavelets>=0.4.0 in /usr/local/lib/python3.7/dist-packages (from scikit-image==0.14.0->-r docker/requirements.txt (line 11)) (1.1.1)\n",
            "Requirement already satisfied: dask[array]>=0.9.0 in /usr/local/lib/python3.7/dist-packages (from scikit-image==0.14.0->-r docker/requirements.txt (line 11)) (2.12.0)\n",
            "Requirement already satisfied: torch in /usr/local/lib/python3.7/dist-packages (from torchvision==0.2.1->-r docker/requirements.txt (line 13)) (1.8.1+cu101)\n",
            "Requirement already satisfied: requests in /usr/local/lib/python3.7/dist-packages (from visdom==0.1.7->-r docker/requirements.txt (line 15)) (2.23.0)\n",
            "Requirement already satisfied: tornado in /usr/local/lib/python3.7/dist-packages (from visdom==0.1.7->-r docker/requirements.txt (line 15)) (5.1.1)\n",
            "Requirement already satisfied: pyzmq in /usr/local/lib/python3.7/dist-packages (from visdom==0.1.7->-r docker/requirements.txt (line 15)) (22.0.3)\n",
            "Requirement already satisfied: MarkupSafe>=0.23 in /usr/local/lib/python3.7/dist-packages (from Jinja2>=2.10.1->flask==1.1.2->-r docker/requirements.txt (line 4)) (1.1.1)\n",
            "Collecting gitdb>=4.0.1\n",
            "\u001b[?25l  Downloading https://files.pythonhosted.org/packages/ea/e8/f414d1a4f0bbc668ed441f74f44c116d9816833a48bf81d22b697090dba8/gitdb-4.0.7-py3-none-any.whl (63kB)\n",
            "\u001b[K     |████████████████████████████████| 71kB 9.6MB/s \n",
            "\u001b[?25hRequirement already satisfied: decorator<5,>=4.3 in /usr/local/lib/python3.7/dist-packages (from networkx>=1.8->scikit-image==0.14.0->-r docker/requirements.txt (line 11)) (4.4.2)\n",
            "Requirement already satisfied: toolz>=0.7.3; extra == \"array\" in /usr/local/lib/python3.7/dist-packages (from dask[array]>=0.9.0->scikit-image==0.14.0->-r docker/requirements.txt (line 11)) (0.11.1)\n",
            "Requirement already satisfied: typing-extensions in /usr/local/lib/python3.7/dist-packages (from torch->torchvision==0.2.1->-r docker/requirements.txt (line 13)) (3.7.4.3)\n",
            "Requirement already satisfied: chardet<4,>=3.0.2 in /usr/local/lib/python3.7/dist-packages (from requests->visdom==0.1.7->-r docker/requirements.txt (line 15)) (3.0.4)\n",
            "Requirement already satisfied: urllib3!=1.25.0,!=1.25.1,<1.26,>=1.21.1 in /usr/local/lib/python3.7/dist-packages (from requests->visdom==0.1.7->-r docker/requirements.txt (line 15)) (1.24.3)\n",
            "Requirement already satisfied: certifi>=2017.4.17 in /usr/local/lib/python3.7/dist-packages (from requests->visdom==0.1.7->-r docker/requirements.txt (line 15)) (2020.12.5)\n",
            "Requirement already satisfied: idna<3,>=2.5 in /usr/local/lib/python3.7/dist-packages (from requests->visdom==0.1.7->-r docker/requirements.txt (line 15)) (2.10)\n",
            "Collecting smmap<5,>=3.0.1\n",
            "  Downloading https://files.pythonhosted.org/packages/68/ee/d540eb5e5996eb81c26ceffac6ee49041d473bc5125f2aa995cf51ec1cf1/smmap-4.0.0-py2.py3-none-any.whl\n",
            "Building wheels for collected packages: scikit-learn, torchfile, visdom\n",
            "  Building wheel for scikit-learn (setup.py) ... \u001b[?25lerror\n",
            "\u001b[31m  ERROR: Failed building wheel for scikit-learn\u001b[0m\n",
            "\u001b[?25h  Running setup.py clean for scikit-learn\n",
            "  Building wheel for torchfile (setup.py) ... \u001b[?25l\u001b[?25hdone\n",
            "  Created wheel for torchfile: filename=torchfile-0.1.0-cp37-none-any.whl size=5713 sha256=5dd559c530f73b9f20d6f33dfb9db0be9ee51409e3d12ce23c32fcbcab2972f1\n",
            "  Stored in directory: /root/.cache/pip/wheels/b1/c3/d6/9a1cc8f3a99a0fc1124cae20153f36af59a6e683daca0a0814\n",
            "  Building wheel for visdom (setup.py) ... \u001b[?25l\u001b[?25hdone\n",
            "  Created wheel for visdom: filename=visdom-0.1.7-cp37-none-any.whl size=34498 sha256=491647775569c64a6d8b619b6f5910951bc76cddcae10deae363770d7c1cff58\n",
            "  Stored in directory: /root/.cache/pip/wheels/5c/ea/0f/4e3a4b23f352c708d36d3a7ff654fb014f893f50baa88f2d29\n",
            "Successfully built torchfile visdom\n",
            "Failed to build scikit-learn\n",
            "\u001b[31mERROR: yellowbrick 0.9.1 has requirement scikit-learn>=0.20, but you'll have scikit-learn 0.19.1 which is incompatible.\u001b[0m\n",
            "\u001b[31mERROR: spacy 2.2.4 has requirement tqdm<5.0.0,>=4.38.0, but you'll have tqdm 4.19.5 which is incompatible.\u001b[0m\n",
            "\u001b[31mERROR: pymc3 3.11.2 has requirement scipy>=1.2.0, but you'll have scipy 1.1.0 which is incompatible.\u001b[0m\n",
            "\u001b[31mERROR: plotnine 0.6.0 has requirement scipy>=1.2.0, but you'll have scipy 1.1.0 which is incompatible.\u001b[0m\n",
            "\u001b[31mERROR: imbalanced-learn 0.4.3 has requirement scikit-learn>=0.20, but you'll have scikit-learn 0.19.1 which is incompatible.\u001b[0m\n",
            "\u001b[31mERROR: fbprophet 0.7.1 has requirement tqdm>=4.36.1, but you'll have tqdm 4.19.5 which is incompatible.\u001b[0m\n",
            "\u001b[31mERROR: albumentations 0.1.12 has requirement imgaug<0.2.7,>=0.2.5, but you'll have imgaug 0.2.9 which is incompatible.\u001b[0m\n",
            "Installing collected packages: humanfriendly, coloredlogs, cython, smmap, gitdb, gitdb2, gitpython, scipy, scikit-learn, scikit-image, torchfile, torchvision, tqdm, visdom\n",
            "  Found existing installation: Cython 0.29.23\n",
            "    Uninstalling Cython-0.29.23:\n",
            "      Successfully uninstalled Cython-0.29.23\n",
            "  Found existing installation: scipy 1.4.1\n",
            "    Uninstalling scipy-1.4.1:\n",
            "      Successfully uninstalled scipy-1.4.1\n",
            "  Found existing installation: scikit-learn 0.22.2.post1\n",
            "    Uninstalling scikit-learn-0.22.2.post1:\n",
            "      Successfully uninstalled scikit-learn-0.22.2.post1\n",
            "    Running setup.py install for scikit-learn ... \u001b[?25l\u001b[?25herror\n",
            "  Rolling back uninstall of scikit-learn\n",
            "  Moving to /usr/local/lib/python3.7/dist-packages/scikit_learn-0.22.2.post1.dist-info/\n",
            "   from /usr/local/lib/python3.7/dist-packages/~cikit_learn-0.22.2.post1.dist-info\n",
            "  Moving to /usr/local/lib/python3.7/dist-packages/sklearn/\n",
            "   from /usr/local/lib/python3.7/dist-packages/~klearn\n",
            "\u001b[31mERROR: Command errored out with exit status 1: /usr/bin/python3 -u -c 'import sys, setuptools, tokenize; sys.argv[0] = '\"'\"'/tmp/pip-install-ivmg85jn/scikit-learn/setup.py'\"'\"'; __file__='\"'\"'/tmp/pip-install-ivmg85jn/scikit-learn/setup.py'\"'\"';f=getattr(tokenize, '\"'\"'open'\"'\"', open)(__file__);code=f.read().replace('\"'\"'\\r\\n'\"'\"', '\"'\"'\\n'\"'\"');f.close();exec(compile(code, __file__, '\"'\"'exec'\"'\"'))' install --record /tmp/pip-record-5etjaoys/install-record.txt --single-version-externally-managed --compile Check the logs for full command output.\u001b[0m\n"
          ],
          "name": "stdout"
        }
      ]
    },
    {
      "cell_type": "markdown",
      "metadata": {
        "id": "QNEo96LdWxd8"
      },
      "source": [
        "# **Train the AlphaZero model**"
      ]
    },
    {
      "cell_type": "code",
      "metadata": {
        "id": "vsMxLhdKWO-H"
      },
      "source": [
        "import logging\n",
        "import coloredlogs\n",
        "from Coach import Coach\n",
        "from utils import dotdict\n",
        "from othello.pytorch.NNet import NNetWrapper\n",
        "from othello.OthelloGame import OthelloGame"
      ],
      "execution_count": 5,
      "outputs": []
    },
    {
      "cell_type": "code",
      "metadata": {
        "id": "pJi0kk_djiKm"
      },
      "source": [
        "log = logging.getLogger(__name__)\n",
        "coloredlogs.install(level='INFO')  # Change this to DEBUG to see more info."
      ],
      "execution_count": 6,
      "outputs": []
    },
    {
      "cell_type": "code",
      "metadata": {
        "id": "WzIsb1wGVXkE"
      },
      "source": [
        "args = dotdict({\n",
        "    'numIters': 1000,\n",
        "    'numEps': 100,              # Number of complete self-play games to simulate during a new iteration.\n",
        "    'tempThreshold': 15,        #\n",
        "    'updateThreshold': 0.6,     # During arena playoff, new checkpoint model will be accepted if threshold or more of games are won.\n",
        "    'maxlenOfQueue': 200000,    # Number of game examples to train the neural networks.\n",
        "    'numMCTSSims': 25,          # Number of games moves for MCTS to simulate.\n",
        "    'arenaCompare': 40,         # Number of games to play during arena play to determine if new net will be accepted.\n",
        "    'cpuct': 1,\n",
        "    'checkpoint': './temp/',\n",
        "    'load_model': False,\n",
        "    'numItersForTrainExamplesHistory': 20,\n",
        "})"
      ],
      "execution_count": 7,
      "outputs": []
    },
    {
      "cell_type": "code",
      "metadata": {
        "id": "W8_4QdwlXZ3k",
        "colab": {
          "base_uri": "https://localhost:8080/"
        },
        "outputId": "70922b68-af47-4416-82bd-2fa5777ff49d"
      },
      "source": [
        "# Load best recent model (2nd generation at '/5-pm-checkpoints')\n",
        "import os\n",
        "if os.path.exists(os.path.join('/pretrained_models/othello/keras/5-pm-checkpoints/', 'best.pth.tar')):\n",
        "  print (\"Using best pre-existing model\")\n",
        "  args['load_model'] = True\n",
        "  args['load_folder_file'] = ('/pretrained_models/othello/keras/5-pm-checkpoints/','best.pth.tar')\n",
        "else:\n",
        "  print (\"Not using best pre-existing model\")"
      ],
      "execution_count": 8,
      "outputs": [
        {
          "output_type": "stream",
          "text": [
            "Not using best pre-existing model\n"
          ],
          "name": "stdout"
        }
      ]
    },
    {
      "cell_type": "code",
      "metadata": {
        "id": "_oIZd4tVXGjI"
      },
      "source": [
        "\n",
        "# Set iterations and Epochs set to run about 1 hour\n",
        "args['numIters'] = 10\n",
        "args['numEps'] = 10\n",
        "args['arenaCompare'] = 4"
      ],
      "execution_count": 9,
      "outputs": []
    },
    {
      "cell_type": "code",
      "metadata": {
        "id": "c5fKMHufYD3m"
      },
      "source": [
        "game = OthelloGame(n=8)"
      ],
      "execution_count": 10,
      "outputs": []
    },
    {
      "cell_type": "code",
      "metadata": {
        "id": "VGKmzJ9kYF9O"
      },
      "source": [
        "nnet = NNetWrapper(game)"
      ],
      "execution_count": 11,
      "outputs": []
    },
    {
      "cell_type": "code",
      "metadata": {
        "id": "KvkW0rl9YHeE",
        "colab": {
          "base_uri": "https://localhost:8080/"
        },
        "outputId": "1f83af97-2490-44f8-db24-b26d8c6135da"
      },
      "source": [
        "if args.load_model:\n",
        "    print('Loading checkpoint \"{}/{}\"...'.format(args.load_folder_file[0], args.load_folder_file[1]))\n",
        "    nnet.load_checkpoint(args.load_folder_file[0], args.load_folder_file[1])\n",
        "else:\n",
        "    print('Not loading a checkpoint.')"
      ],
      "execution_count": 12,
      "outputs": [
        {
          "output_type": "stream",
          "text": [
            "Not loading a checkpoint.\n"
          ],
          "name": "stdout"
        }
      ]
    },
    {
      "cell_type": "code",
      "metadata": {
        "id": "ESToLzAkYKED"
      },
      "source": [
        "coach = Coach(game, nnet, args)"
      ],
      "execution_count": 13,
      "outputs": []
    },
    {
      "cell_type": "code",
      "metadata": {
        "id": "0uJRc2aRVjN-",
        "colab": {
          "base_uri": "https://localhost:8080/"
        },
        "outputId": "eab37301-c46a-49b8-98c3-1a694ddab26a"
      },
      "source": [
        "%time coach.learn()"
      ],
      "execution_count": 31,
      "outputs": [
        {
          "output_type": "stream",
          "text": [
            "2021-05-12 20:22:41 bb450b7c5a31 Coach[71] INFO Starting Iter #1 ...\n",
            "Self Play: 100%|██████████| 10/10 [00:34<00:00,  3.42s/it]\n",
            "Training Net:   0%|          | 0/846 [00:00<?, ?it/s, Loss_pi=5.97e-01, Loss_v=2.89e-01]"
          ],
          "name": "stderr"
        },
        {
          "output_type": "stream",
          "text": [
            "Checkpoint Directory exists! \n",
            "EPOCH ::: 1\n"
          ],
          "name": "stdout"
        },
        {
          "output_type": "stream",
          "text": [
            "Training Net: 100%|██████████| 846/846 [00:12<00:00, 65.81it/s, Loss_pi=6.06e-01, Loss_v=2.28e-01]\n",
            "Training Net:   1%|          | 7/846 [00:00<00:12, 68.37it/s, Loss_pi=5.37e-01, Loss_v=2.01e-01]"
          ],
          "name": "stderr"
        },
        {
          "output_type": "stream",
          "text": [
            "EPOCH ::: 2\n"
          ],
          "name": "stdout"
        },
        {
          "output_type": "stream",
          "text": [
            "Training Net: 100%|██████████| 846/846 [00:12<00:00, 65.94it/s, Loss_pi=5.01e-01, Loss_v=1.87e-01]\n",
            "Training Net:   1%|          | 7/846 [00:00<00:12, 68.30it/s, Loss_pi=5.08e-01, Loss_v=1.75e-01]"
          ],
          "name": "stderr"
        },
        {
          "output_type": "stream",
          "text": [
            "EPOCH ::: 3\n"
          ],
          "name": "stdout"
        },
        {
          "output_type": "stream",
          "text": [
            "Training Net: 100%|██████████| 846/846 [00:12<00:00, 66.02it/s, Loss_pi=4.67e-01, Loss_v=1.70e-01]\n",
            "Training Net:   1%|          | 7/846 [00:00<00:12, 67.87it/s, Loss_pi=4.88e-01, Loss_v=1.70e-01]"
          ],
          "name": "stderr"
        },
        {
          "output_type": "stream",
          "text": [
            "EPOCH ::: 4\n"
          ],
          "name": "stdout"
        },
        {
          "output_type": "stream",
          "text": [
            "Training Net: 100%|██████████| 846/846 [00:12<00:00, 65.97it/s, Loss_pi=4.50e-01, Loss_v=1.67e-01]\n",
            "Training Net:   1%|          | 7/846 [00:00<00:12, 68.44it/s, Loss_pi=4.28e-01, Loss_v=1.51e-01]"
          ],
          "name": "stderr"
        },
        {
          "output_type": "stream",
          "text": [
            "EPOCH ::: 5\n"
          ],
          "name": "stdout"
        },
        {
          "output_type": "stream",
          "text": [
            "Training Net: 100%|██████████| 846/846 [00:12<00:00, 66.10it/s, Loss_pi=4.41e-01, Loss_v=1.62e-01]\n",
            "Training Net:   1%|          | 7/846 [00:00<00:12, 66.23it/s, Loss_pi=4.55e-01, Loss_v=1.61e-01]"
          ],
          "name": "stderr"
        },
        {
          "output_type": "stream",
          "text": [
            "EPOCH ::: 6\n"
          ],
          "name": "stdout"
        },
        {
          "output_type": "stream",
          "text": [
            "Training Net: 100%|██████████| 846/846 [00:12<00:00, 65.75it/s, Loss_pi=4.31e-01, Loss_v=1.60e-01]\n",
            "Training Net:   1%|          | 7/846 [00:00<00:12, 67.02it/s, Loss_pi=4.31e-01, Loss_v=1.98e-01]"
          ],
          "name": "stderr"
        },
        {
          "output_type": "stream",
          "text": [
            "EPOCH ::: 7\n"
          ],
          "name": "stdout"
        },
        {
          "output_type": "stream",
          "text": [
            "Training Net: 100%|██████████| 846/846 [00:12<00:00, 65.85it/s, Loss_pi=4.16e-01, Loss_v=1.54e-01]\n",
            "Training Net:   1%|          | 7/846 [00:00<00:12, 66.46it/s, Loss_pi=4.49e-01, Loss_v=1.67e-01]"
          ],
          "name": "stderr"
        },
        {
          "output_type": "stream",
          "text": [
            "EPOCH ::: 8\n"
          ],
          "name": "stdout"
        },
        {
          "output_type": "stream",
          "text": [
            "Training Net: 100%|██████████| 846/846 [00:12<00:00, 65.90it/s, Loss_pi=4.12e-01, Loss_v=1.52e-01]\n",
            "Training Net:   1%|          | 7/846 [00:00<00:12, 67.36it/s, Loss_pi=4.07e-01, Loss_v=1.60e-01]"
          ],
          "name": "stderr"
        },
        {
          "output_type": "stream",
          "text": [
            "EPOCH ::: 9\n"
          ],
          "name": "stdout"
        },
        {
          "output_type": "stream",
          "text": [
            "Training Net: 100%|██████████| 846/846 [00:12<00:00, 66.00it/s, Loss_pi=4.05e-01, Loss_v=1.48e-01]\n",
            "Training Net:   1%|          | 7/846 [00:00<00:12, 68.43it/s, Loss_pi=3.99e-01, Loss_v=1.56e-01]"
          ],
          "name": "stderr"
        },
        {
          "output_type": "stream",
          "text": [
            "EPOCH ::: 10\n"
          ],
          "name": "stdout"
        },
        {
          "output_type": "stream",
          "text": [
            "Training Net: 100%|██████████| 846/846 [00:12<00:00, 66.06it/s, Loss_pi=4.01e-01, Loss_v=1.48e-01]\n",
            "2021-05-12 20:25:34 bb450b7c5a31 Coach[71] INFO PITTING AGAINST PREVIOUS VERSION\n",
            "Arena.playGames (1): 100%|██████████| 2/2 [00:06<00:00,  3.39s/it]\n",
            "Arena.playGames (2): 100%|██████████| 2/2 [00:06<00:00,  3.31s/it]\n",
            "2021-05-12 20:25:48 bb450b7c5a31 Coach[71] INFO NEW/PREV WINS : 1 / 3 ; DRAWS : 0\n",
            "2021-05-12 20:25:48 bb450b7c5a31 Coach[71] INFO REJECTING NEW MODEL\n",
            "2021-05-12 20:25:48 bb450b7c5a31 Coach[71] INFO Starting Iter #2 ...\n",
            "Self Play: 100%|██████████| 10/10 [00:34<00:00,  3.42s/it]\n",
            "Training Net:   0%|          | 0/921 [00:00<?, ?it/s, Loss_pi=9.24e-01, Loss_v=3.13e-01]"
          ],
          "name": "stderr"
        },
        {
          "output_type": "stream",
          "text": [
            "Checkpoint Directory exists! \n",
            "EPOCH ::: 1\n"
          ],
          "name": "stdout"
        },
        {
          "output_type": "stream",
          "text": [
            "Training Net: 100%|██████████| 921/921 [00:13<00:00, 65.86it/s, Loss_pi=7.33e-01, Loss_v=2.85e-01]\n",
            "Training Net:   1%|          | 7/921 [00:00<00:13, 68.45it/s, Loss_pi=6.55e-01, Loss_v=2.64e-01]"
          ],
          "name": "stderr"
        },
        {
          "output_type": "stream",
          "text": [
            "EPOCH ::: 2\n"
          ],
          "name": "stdout"
        },
        {
          "output_type": "stream",
          "text": [
            "Training Net: 100%|██████████| 921/921 [00:13<00:00, 66.09it/s, Loss_pi=5.84e-01, Loss_v=2.14e-01]\n",
            "Training Net:   1%|          | 7/921 [00:00<00:13, 67.87it/s, Loss_pi=6.15e-01, Loss_v=2.01e-01]"
          ],
          "name": "stderr"
        },
        {
          "output_type": "stream",
          "text": [
            "EPOCH ::: 3\n"
          ],
          "name": "stdout"
        },
        {
          "output_type": "stream",
          "text": [
            "Training Net: 100%|██████████| 921/921 [00:13<00:00, 65.95it/s, Loss_pi=5.19e-01, Loss_v=1.90e-01]\n",
            "Training Net:   1%|          | 7/921 [00:00<00:13, 66.79it/s, Loss_pi=4.92e-01, Loss_v=1.83e-01]"
          ],
          "name": "stderr"
        },
        {
          "output_type": "stream",
          "text": [
            "EPOCH ::: 4\n"
          ],
          "name": "stdout"
        },
        {
          "output_type": "stream",
          "text": [
            "Training Net: 100%|██████████| 921/921 [00:14<00:00, 65.72it/s, Loss_pi=4.82e-01, Loss_v=1.77e-01]\n",
            "Training Net:   1%|          | 7/921 [00:00<00:13, 66.92it/s, Loss_pi=4.49e-01, Loss_v=1.57e-01]"
          ],
          "name": "stderr"
        },
        {
          "output_type": "stream",
          "text": [
            "EPOCH ::: 5\n"
          ],
          "name": "stdout"
        },
        {
          "output_type": "stream",
          "text": [
            "Training Net: 100%|██████████| 921/921 [00:13<00:00, 65.96it/s, Loss_pi=4.61e-01, Loss_v=1.74e-01]\n",
            "Training Net:   1%|          | 7/921 [00:00<00:13, 67.76it/s, Loss_pi=3.86e-01, Loss_v=1.45e-01]"
          ],
          "name": "stderr"
        },
        {
          "output_type": "stream",
          "text": [
            "EPOCH ::: 6\n"
          ],
          "name": "stdout"
        },
        {
          "output_type": "stream",
          "text": [
            "Training Net: 100%|██████████| 921/921 [00:14<00:00, 65.72it/s, Loss_pi=4.45e-01, Loss_v=1.66e-01]\n",
            "Training Net:   1%|          | 7/921 [00:00<00:13, 67.82it/s, Loss_pi=4.37e-01, Loss_v=1.73e-01]"
          ],
          "name": "stderr"
        },
        {
          "output_type": "stream",
          "text": [
            "EPOCH ::: 7\n"
          ],
          "name": "stdout"
        },
        {
          "output_type": "stream",
          "text": [
            "Training Net: 100%|██████████| 921/921 [00:13<00:00, 66.09it/s, Loss_pi=4.32e-01, Loss_v=1.63e-01]\n",
            "Training Net:   1%|          | 7/921 [00:00<00:13, 67.72it/s, Loss_pi=4.29e-01, Loss_v=1.61e-01]"
          ],
          "name": "stderr"
        },
        {
          "output_type": "stream",
          "text": [
            "EPOCH ::: 8\n"
          ],
          "name": "stdout"
        },
        {
          "output_type": "stream",
          "text": [
            "Training Net: 100%|██████████| 921/921 [00:13<00:00, 65.89it/s, Loss_pi=4.24e-01, Loss_v=1.59e-01]\n",
            "Training Net:   1%|          | 7/921 [00:00<00:13, 68.60it/s, Loss_pi=4.13e-01, Loss_v=1.39e-01]"
          ],
          "name": "stderr"
        },
        {
          "output_type": "stream",
          "text": [
            "EPOCH ::: 9\n"
          ],
          "name": "stdout"
        },
        {
          "output_type": "stream",
          "text": [
            "Training Net: 100%|██████████| 921/921 [00:13<00:00, 65.89it/s, Loss_pi=4.26e-01, Loss_v=1.57e-01]\n",
            "Training Net:   1%|          | 7/921 [00:00<00:13, 68.07it/s, Loss_pi=4.11e-01, Loss_v=1.71e-01]"
          ],
          "name": "stderr"
        },
        {
          "output_type": "stream",
          "text": [
            "EPOCH ::: 10\n"
          ],
          "name": "stdout"
        },
        {
          "output_type": "stream",
          "text": [
            "Training Net: 100%|██████████| 921/921 [00:13<00:00, 65.88it/s, Loss_pi=4.08e-01, Loss_v=1.51e-01]\n",
            "2021-05-12 20:28:54 bb450b7c5a31 Coach[71] INFO PITTING AGAINST PREVIOUS VERSION\n",
            "Arena.playGames (1): 100%|██████████| 2/2 [00:06<00:00,  3.28s/it]\n",
            "Arena.playGames (2): 100%|██████████| 2/2 [00:06<00:00,  3.39s/it]\n",
            "2021-05-12 20:29:07 bb450b7c5a31 Coach[71] INFO NEW/PREV WINS : 1 / 3 ; DRAWS : 0\n",
            "2021-05-12 20:29:07 bb450b7c5a31 Coach[71] INFO REJECTING NEW MODEL\n",
            "2021-05-12 20:29:07 bb450b7c5a31 Coach[71] INFO Starting Iter #3 ...\n",
            "Self Play: 100%|██████████| 10/10 [00:34<00:00,  3.45s/it]\n",
            "Training Net:   0%|          | 0/996 [00:00<?, ?it/s, Loss_pi=1.07e+00, Loss_v=6.28e-01]"
          ],
          "name": "stderr"
        },
        {
          "output_type": "stream",
          "text": [
            "Checkpoint Directory exists! \n",
            "EPOCH ::: 1\n"
          ],
          "name": "stdout"
        },
        {
          "output_type": "stream",
          "text": [
            "Training Net: 100%|██████████| 996/996 [00:15<00:00, 65.77it/s, Loss_pi=8.55e-01, Loss_v=3.44e-01]\n",
            "Training Net:   1%|          | 7/996 [00:00<00:14, 68.03it/s, Loss_pi=7.74e-01, Loss_v=2.51e-01]"
          ],
          "name": "stderr"
        },
        {
          "output_type": "stream",
          "text": [
            "EPOCH ::: 2\n"
          ],
          "name": "stdout"
        },
        {
          "output_type": "stream",
          "text": [
            "Training Net: 100%|██████████| 996/996 [00:15<00:00, 66.02it/s, Loss_pi=6.61e-01, Loss_v=2.42e-01]\n",
            "Training Net:   1%|          | 7/996 [00:00<00:14, 67.82it/s, Loss_pi=6.21e-01, Loss_v=2.07e-01]"
          ],
          "name": "stderr"
        },
        {
          "output_type": "stream",
          "text": [
            "EPOCH ::: 3\n"
          ],
          "name": "stdout"
        },
        {
          "output_type": "stream",
          "text": [
            "Training Net: 100%|██████████| 996/996 [00:15<00:00, 65.81it/s, Loss_pi=5.65e-01, Loss_v=2.06e-01]\n",
            "Training Net:   1%|          | 7/996 [00:00<00:14, 68.91it/s, Loss_pi=5.20e-01, Loss_v=1.80e-01]"
          ],
          "name": "stderr"
        },
        {
          "output_type": "stream",
          "text": [
            "EPOCH ::: 4\n"
          ],
          "name": "stdout"
        },
        {
          "output_type": "stream",
          "text": [
            "Training Net: 100%|██████████| 996/996 [00:15<00:00, 65.95it/s, Loss_pi=5.21e-01, Loss_v=1.94e-01]\n",
            "Training Net:   1%|          | 7/996 [00:00<00:14, 67.70it/s, Loss_pi=4.92e-01, Loss_v=1.76e-01]"
          ],
          "name": "stderr"
        },
        {
          "output_type": "stream",
          "text": [
            "EPOCH ::: 5\n"
          ],
          "name": "stdout"
        },
        {
          "output_type": "stream",
          "text": [
            "Training Net: 100%|██████████| 996/996 [00:15<00:00, 65.99it/s, Loss_pi=4.81e-01, Loss_v=1.80e-01]\n",
            "Training Net:   1%|          | 7/996 [00:00<00:14, 68.34it/s, Loss_pi=4.25e-01, Loss_v=1.98e-01]"
          ],
          "name": "stderr"
        },
        {
          "output_type": "stream",
          "text": [
            "EPOCH ::: 6\n"
          ],
          "name": "stdout"
        },
        {
          "output_type": "stream",
          "text": [
            "Training Net: 100%|██████████| 996/996 [00:15<00:00, 65.88it/s, Loss_pi=4.66e-01, Loss_v=1.81e-01]\n",
            "Training Net:   1%|          | 7/996 [00:00<00:14, 67.85it/s, Loss_pi=4.87e-01, Loss_v=1.46e-01]"
          ],
          "name": "stderr"
        },
        {
          "output_type": "stream",
          "text": [
            "EPOCH ::: 7\n"
          ],
          "name": "stdout"
        },
        {
          "output_type": "stream",
          "text": [
            "Training Net: 100%|██████████| 996/996 [00:15<00:00, 65.84it/s, Loss_pi=4.44e-01, Loss_v=1.67e-01]\n",
            "Training Net:   1%|          | 7/996 [00:00<00:14, 66.25it/s, Loss_pi=3.94e-01, Loss_v=1.29e-01]"
          ],
          "name": "stderr"
        },
        {
          "output_type": "stream",
          "text": [
            "EPOCH ::: 8\n"
          ],
          "name": "stdout"
        },
        {
          "output_type": "stream",
          "text": [
            "Training Net: 100%|██████████| 996/996 [00:15<00:00, 65.92it/s, Loss_pi=4.39e-01, Loss_v=1.66e-01]\n",
            "Training Net:   1%|          | 7/996 [00:00<00:14, 67.23it/s, Loss_pi=4.33e-01, Loss_v=1.59e-01]"
          ],
          "name": "stderr"
        },
        {
          "output_type": "stream",
          "text": [
            "EPOCH ::: 9\n"
          ],
          "name": "stdout"
        },
        {
          "output_type": "stream",
          "text": [
            "Training Net: 100%|██████████| 996/996 [00:15<00:00, 65.98it/s, Loss_pi=4.30e-01, Loss_v=1.61e-01]\n",
            "Training Net:   1%|          | 7/996 [00:00<00:14, 66.39it/s, Loss_pi=4.14e-01, Loss_v=1.50e-01]"
          ],
          "name": "stderr"
        },
        {
          "output_type": "stream",
          "text": [
            "EPOCH ::: 10\n"
          ],
          "name": "stdout"
        },
        {
          "output_type": "stream",
          "text": [
            "Training Net: 100%|██████████| 996/996 [00:15<00:00, 65.84it/s, Loss_pi=4.19e-01, Loss_v=1.61e-01]\n",
            "2021-05-12 20:32:26 bb450b7c5a31 Coach[71] INFO PITTING AGAINST PREVIOUS VERSION\n",
            "Arena.playGames (1): 100%|██████████| 2/2 [00:06<00:00,  3.29s/it]\n",
            "Arena.playGames (2): 100%|██████████| 2/2 [00:06<00:00,  3.37s/it]\n",
            "2021-05-12 20:32:39 bb450b7c5a31 Coach[71] INFO NEW/PREV WINS : 2 / 2 ; DRAWS : 0\n",
            "2021-05-12 20:32:39 bb450b7c5a31 Coach[71] INFO REJECTING NEW MODEL\n",
            "2021-05-12 20:32:39 bb450b7c5a31 Coach[71] INFO Starting Iter #4 ...\n",
            "Self Play: 100%|██████████| 10/10 [00:34<00:00,  3.40s/it]\n",
            "Training Net:   0%|          | 0/1072 [00:00<?, ?it/s, Loss_pi=1.35e+00, Loss_v=4.84e-01]"
          ],
          "name": "stderr"
        },
        {
          "output_type": "stream",
          "text": [
            "Checkpoint Directory exists! \n",
            "EPOCH ::: 1\n"
          ],
          "name": "stdout"
        },
        {
          "output_type": "stream",
          "text": [
            "Training Net: 100%|██████████| 1072/1072 [00:16<00:00, 65.90it/s, Loss_pi=9.47e-01, Loss_v=3.69e-01]\n",
            "Training Net:   1%|          | 7/1072 [00:00<00:15, 68.72it/s, Loss_pi=8.21e-01, Loss_v=3.18e-01]"
          ],
          "name": "stderr"
        },
        {
          "output_type": "stream",
          "text": [
            "EPOCH ::: 2\n"
          ],
          "name": "stdout"
        },
        {
          "output_type": "stream",
          "text": [
            "Training Net: 100%|██████████| 1072/1072 [00:16<00:00, 65.86it/s, Loss_pi=7.15e-01, Loss_v=2.51e-01]\n",
            "Training Net:   1%|          | 7/1072 [00:00<00:15, 67.08it/s, Loss_pi=7.00e-01, Loss_v=2.29e-01]"
          ],
          "name": "stderr"
        },
        {
          "output_type": "stream",
          "text": [
            "EPOCH ::: 3\n"
          ],
          "name": "stdout"
        },
        {
          "output_type": "stream",
          "text": [
            "Training Net: 100%|██████████| 1072/1072 [00:16<00:00, 65.94it/s, Loss_pi=6.10e-01, Loss_v=2.15e-01]\n",
            "Training Net:   1%|          | 7/1072 [00:00<00:15, 69.03it/s, Loss_pi=5.63e-01, Loss_v=2.01e-01]"
          ],
          "name": "stderr"
        },
        {
          "output_type": "stream",
          "text": [
            "EPOCH ::: 4\n"
          ],
          "name": "stdout"
        },
        {
          "output_type": "stream",
          "text": [
            "Training Net: 100%|██████████| 1072/1072 [00:16<00:00, 65.88it/s, Loss_pi=5.53e-01, Loss_v=2.00e-01]\n",
            "Training Net:   1%|          | 7/1072 [00:00<00:15, 67.45it/s, Loss_pi=5.26e-01, Loss_v=1.89e-01]"
          ],
          "name": "stderr"
        },
        {
          "output_type": "stream",
          "text": [
            "EPOCH ::: 5\n"
          ],
          "name": "stdout"
        },
        {
          "output_type": "stream",
          "text": [
            "Training Net: 100%|██████████| 1072/1072 [00:16<00:00, 65.98it/s, Loss_pi=5.09e-01, Loss_v=1.89e-01]\n",
            "Training Net:   1%|          | 7/1072 [00:00<00:15, 67.37it/s, Loss_pi=5.29e-01, Loss_v=1.95e-01]"
          ],
          "name": "stderr"
        },
        {
          "output_type": "stream",
          "text": [
            "EPOCH ::: 6\n"
          ],
          "name": "stdout"
        },
        {
          "output_type": "stream",
          "text": [
            "Training Net: 100%|██████████| 1072/1072 [00:16<00:00, 66.00it/s, Loss_pi=4.92e-01, Loss_v=1.86e-01]\n",
            "Training Net:   1%|          | 7/1072 [00:00<00:15, 67.34it/s, Loss_pi=5.29e-01, Loss_v=1.82e-01]"
          ],
          "name": "stderr"
        },
        {
          "output_type": "stream",
          "text": [
            "EPOCH ::: 7\n"
          ],
          "name": "stdout"
        },
        {
          "output_type": "stream",
          "text": [
            "Training Net: 100%|██████████| 1072/1072 [00:16<00:00, 66.01it/s, Loss_pi=4.70e-01, Loss_v=1.75e-01]\n",
            "Training Net:   1%|          | 7/1072 [00:00<00:15, 67.41it/s, Loss_pi=4.24e-01, Loss_v=1.61e-01]"
          ],
          "name": "stderr"
        },
        {
          "output_type": "stream",
          "text": [
            "EPOCH ::: 8\n"
          ],
          "name": "stdout"
        },
        {
          "output_type": "stream",
          "text": [
            "Training Net: 100%|██████████| 1072/1072 [00:16<00:00, 65.82it/s, Loss_pi=4.54e-01, Loss_v=1.72e-01]\n",
            "Training Net:   1%|          | 7/1072 [00:00<00:15, 67.39it/s, Loss_pi=4.76e-01, Loss_v=1.60e-01]"
          ],
          "name": "stderr"
        },
        {
          "output_type": "stream",
          "text": [
            "EPOCH ::: 9\n"
          ],
          "name": "stdout"
        },
        {
          "output_type": "stream",
          "text": [
            "Training Net: 100%|██████████| 1072/1072 [00:16<00:00, 65.86it/s, Loss_pi=4.43e-01, Loss_v=1.66e-01]\n",
            "Training Net:   1%|          | 7/1072 [00:00<00:15, 68.46it/s, Loss_pi=4.08e-01, Loss_v=1.89e-01]"
          ],
          "name": "stderr"
        },
        {
          "output_type": "stream",
          "text": [
            "EPOCH ::: 10\n"
          ],
          "name": "stdout"
        },
        {
          "output_type": "stream",
          "text": [
            "Training Net: 100%|██████████| 1072/1072 [00:16<00:00, 65.94it/s, Loss_pi=4.30e-01, Loss_v=1.65e-01]\n",
            "2021-05-12 20:36:10 bb450b7c5a31 Coach[71] INFO PITTING AGAINST PREVIOUS VERSION\n",
            "Arena.playGames (1): 100%|██████████| 2/2 [00:06<00:00,  3.35s/it]\n",
            "Arena.playGames (2): 100%|██████████| 2/2 [00:06<00:00,  3.37s/it]\n",
            "2021-05-12 20:36:23 bb450b7c5a31 Coach[71] INFO NEW/PREV WINS : 3 / 1 ; DRAWS : 0\n",
            "2021-05-12 20:36:23 bb450b7c5a31 Coach[71] INFO ACCEPTING NEW MODEL\n"
          ],
          "name": "stderr"
        },
        {
          "output_type": "stream",
          "text": [
            "Checkpoint Directory exists! \n",
            "Checkpoint Directory exists! \n"
          ],
          "name": "stdout"
        },
        {
          "output_type": "stream",
          "text": [
            "2021-05-12 20:36:24 bb450b7c5a31 Coach[71] INFO Starting Iter #5 ...\n",
            "Self Play: 100%|██████████| 10/10 [00:33<00:00,  3.38s/it]\n",
            "Training Net:   0%|          | 0/1148 [00:00<?, ?it/s, Loss_pi=7.88e-01, Loss_v=2.39e-01]"
          ],
          "name": "stderr"
        },
        {
          "output_type": "stream",
          "text": [
            "Checkpoint Directory exists! \n",
            "EPOCH ::: 1\n"
          ],
          "name": "stdout"
        },
        {
          "output_type": "stream",
          "text": [
            "Training Net: 100%|██████████| 1148/1148 [00:17<00:00, 65.77it/s, Loss_pi=5.63e-01, Loss_v=2.04e-01]\n",
            "Training Net:   1%|          | 7/1148 [00:00<00:17, 66.77it/s, Loss_pi=4.95e-01, Loss_v=1.87e-01]"
          ],
          "name": "stderr"
        },
        {
          "output_type": "stream",
          "text": [
            "EPOCH ::: 2\n"
          ],
          "name": "stdout"
        },
        {
          "output_type": "stream",
          "text": [
            "Training Net: 100%|██████████| 1148/1148 [00:17<00:00, 65.95it/s, Loss_pi=4.83e-01, Loss_v=1.81e-01]\n",
            "Training Net:   1%|          | 7/1148 [00:00<00:16, 68.02it/s, Loss_pi=4.64e-01, Loss_v=1.45e-01]"
          ],
          "name": "stderr"
        },
        {
          "output_type": "stream",
          "text": [
            "EPOCH ::: 3\n"
          ],
          "name": "stdout"
        },
        {
          "output_type": "stream",
          "text": [
            "Training Net: 100%|██████████| 1148/1148 [00:17<00:00, 65.78it/s, Loss_pi=4.50e-01, Loss_v=1.69e-01]\n",
            "Training Net:   1%|          | 7/1148 [00:00<00:16, 69.68it/s, Loss_pi=4.53e-01, Loss_v=1.50e-01]"
          ],
          "name": "stderr"
        },
        {
          "output_type": "stream",
          "text": [
            "EPOCH ::: 4\n"
          ],
          "name": "stdout"
        },
        {
          "output_type": "stream",
          "text": [
            "Training Net: 100%|██████████| 1148/1148 [00:17<00:00, 65.88it/s, Loss_pi=4.36e-01, Loss_v=1.66e-01]\n",
            "Training Net:   1%|          | 7/1148 [00:00<00:16, 69.10it/s, Loss_pi=3.93e-01, Loss_v=1.46e-01]"
          ],
          "name": "stderr"
        },
        {
          "output_type": "stream",
          "text": [
            "EPOCH ::: 5\n"
          ],
          "name": "stdout"
        },
        {
          "output_type": "stream",
          "text": [
            "Training Net: 100%|██████████| 1148/1148 [00:17<00:00, 65.76it/s, Loss_pi=4.24e-01, Loss_v=1.62e-01]\n",
            "Training Net:   1%|          | 7/1148 [00:00<00:16, 68.69it/s, Loss_pi=4.30e-01, Loss_v=1.59e-01]"
          ],
          "name": "stderr"
        },
        {
          "output_type": "stream",
          "text": [
            "EPOCH ::: 6\n"
          ],
          "name": "stdout"
        },
        {
          "output_type": "stream",
          "text": [
            "Training Net: 100%|██████████| 1148/1148 [00:17<00:00, 65.86it/s, Loss_pi=4.16e-01, Loss_v=1.59e-01]\n",
            "Training Net:   1%|          | 7/1148 [00:00<00:16, 69.02it/s, Loss_pi=4.39e-01, Loss_v=1.53e-01]"
          ],
          "name": "stderr"
        },
        {
          "output_type": "stream",
          "text": [
            "EPOCH ::: 7\n"
          ],
          "name": "stdout"
        },
        {
          "output_type": "stream",
          "text": [
            "Training Net: 100%|██████████| 1148/1148 [00:17<00:00, 65.99it/s, Loss_pi=4.09e-01, Loss_v=1.55e-01]\n",
            "Training Net:   1%|          | 7/1148 [00:00<00:16, 68.01it/s, Loss_pi=3.98e-01, Loss_v=1.35e-01]"
          ],
          "name": "stderr"
        },
        {
          "output_type": "stream",
          "text": [
            "EPOCH ::: 8\n"
          ],
          "name": "stdout"
        },
        {
          "output_type": "stream",
          "text": [
            "Training Net: 100%|██████████| 1148/1148 [00:17<00:00, 65.79it/s, Loss_pi=4.04e-01, Loss_v=1.55e-01]\n",
            "Training Net:   1%|          | 7/1148 [00:00<00:16, 69.37it/s, Loss_pi=4.35e-01, Loss_v=1.52e-01]"
          ],
          "name": "stderr"
        },
        {
          "output_type": "stream",
          "text": [
            "EPOCH ::: 9\n"
          ],
          "name": "stdout"
        },
        {
          "output_type": "stream",
          "text": [
            "Training Net: 100%|██████████| 1148/1148 [00:17<00:00, 65.88it/s, Loss_pi=3.97e-01, Loss_v=1.53e-01]\n",
            "Training Net:   1%|          | 7/1148 [00:00<00:16, 67.76it/s, Loss_pi=3.96e-01, Loss_v=1.50e-01]"
          ],
          "name": "stderr"
        },
        {
          "output_type": "stream",
          "text": [
            "EPOCH ::: 10\n"
          ],
          "name": "stdout"
        },
        {
          "output_type": "stream",
          "text": [
            "Training Net: 100%|██████████| 1148/1148 [00:17<00:00, 65.77it/s, Loss_pi=3.98e-01, Loss_v=1.53e-01]\n",
            "2021-05-12 20:40:07 bb450b7c5a31 Coach[71] INFO PITTING AGAINST PREVIOUS VERSION\n",
            "Arena.playGames (1): 100%|██████████| 2/2 [00:06<00:00,  3.26s/it]\n",
            "Arena.playGames (2): 100%|██████████| 2/2 [00:06<00:00,  3.39s/it]\n",
            "2021-05-12 20:40:20 bb450b7c5a31 Coach[71] INFO NEW/PREV WINS : 1 / 3 ; DRAWS : 0\n",
            "2021-05-12 20:40:20 bb450b7c5a31 Coach[71] INFO REJECTING NEW MODEL\n",
            "2021-05-12 20:40:20 bb450b7c5a31 Coach[71] INFO Starting Iter #6 ...\n",
            "Self Play: 100%|██████████| 10/10 [00:33<00:00,  3.34s/it]\n",
            "Training Net:   0%|          | 0/1224 [00:00<?, ?it/s, Loss_pi=5.89e-01, Loss_v=2.84e-01]"
          ],
          "name": "stderr"
        },
        {
          "output_type": "stream",
          "text": [
            "Checkpoint Directory exists! \n",
            "EPOCH ::: 1\n"
          ],
          "name": "stdout"
        },
        {
          "output_type": "stream",
          "text": [
            "Training Net: 100%|██████████| 1224/1224 [00:18<00:00, 65.74it/s, Loss_pi=6.66e-01, Loss_v=2.58e-01]\n",
            "Training Net:   1%|          | 7/1224 [00:00<00:17, 68.12it/s, Loss_pi=5.80e-01, Loss_v=2.31e-01]"
          ],
          "name": "stderr"
        },
        {
          "output_type": "stream",
          "text": [
            "EPOCH ::: 2\n"
          ],
          "name": "stdout"
        },
        {
          "output_type": "stream",
          "text": [
            "Training Net: 100%|██████████| 1224/1224 [00:18<00:00, 65.83it/s, Loss_pi=5.54e-01, Loss_v=2.00e-01]\n",
            "Training Net:   1%|          | 7/1224 [00:00<00:17, 68.32it/s, Loss_pi=5.61e-01, Loss_v=1.87e-01]"
          ],
          "name": "stderr"
        },
        {
          "output_type": "stream",
          "text": [
            "EPOCH ::: 3\n"
          ],
          "name": "stdout"
        },
        {
          "output_type": "stream",
          "text": [
            "Training Net: 100%|██████████| 1224/1224 [00:18<00:00, 65.70it/s, Loss_pi=4.95e-01, Loss_v=1.81e-01]\n",
            "Training Net:   1%|          | 7/1224 [00:00<00:17, 67.87it/s, Loss_pi=4.61e-01, Loss_v=2.01e-01]"
          ],
          "name": "stderr"
        },
        {
          "output_type": "stream",
          "text": [
            "EPOCH ::: 4\n"
          ],
          "name": "stdout"
        },
        {
          "output_type": "stream",
          "text": [
            "Training Net: 100%|██████████| 1224/1224 [00:18<00:00, 65.72it/s, Loss_pi=4.59e-01, Loss_v=1.72e-01]\n",
            "Training Net:   1%|          | 7/1224 [00:00<00:17, 68.30it/s, Loss_pi=3.95e-01, Loss_v=1.49e-01]"
          ],
          "name": "stderr"
        },
        {
          "output_type": "stream",
          "text": [
            "EPOCH ::: 5\n"
          ],
          "name": "stdout"
        },
        {
          "output_type": "stream",
          "text": [
            "Training Net: 100%|██████████| 1224/1224 [00:18<00:00, 65.82it/s, Loss_pi=4.48e-01, Loss_v=1.72e-01]\n",
            "Training Net:   1%|          | 7/1224 [00:00<00:17, 67.68it/s, Loss_pi=4.00e-01, Loss_v=1.42e-01]"
          ],
          "name": "stderr"
        },
        {
          "output_type": "stream",
          "text": [
            "EPOCH ::: 6\n"
          ],
          "name": "stdout"
        },
        {
          "output_type": "stream",
          "text": [
            "Training Net: 100%|██████████| 1224/1224 [00:18<00:00, 65.63it/s, Loss_pi=4.32e-01, Loss_v=1.63e-01]\n",
            "Training Net:   1%|          | 7/1224 [00:00<00:17, 68.13it/s, Loss_pi=3.86e-01, Loss_v=1.13e-01]"
          ],
          "name": "stderr"
        },
        {
          "output_type": "stream",
          "text": [
            "EPOCH ::: 7\n"
          ],
          "name": "stdout"
        },
        {
          "output_type": "stream",
          "text": [
            "Training Net: 100%|██████████| 1224/1224 [00:18<00:00, 65.62it/s, Loss_pi=4.25e-01, Loss_v=1.63e-01]\n",
            "Training Net:   1%|          | 7/1224 [00:00<00:18, 66.01it/s, Loss_pi=3.95e-01, Loss_v=1.61e-01]"
          ],
          "name": "stderr"
        },
        {
          "output_type": "stream",
          "text": [
            "EPOCH ::: 8\n"
          ],
          "name": "stdout"
        },
        {
          "output_type": "stream",
          "text": [
            "Training Net: 100%|██████████| 1224/1224 [00:18<00:00, 65.85it/s, Loss_pi=4.17e-01, Loss_v=1.59e-01]\n",
            "Training Net:   1%|          | 7/1224 [00:00<00:18, 67.47it/s, Loss_pi=4.76e-01, Loss_v=1.67e-01]"
          ],
          "name": "stderr"
        },
        {
          "output_type": "stream",
          "text": [
            "EPOCH ::: 9\n"
          ],
          "name": "stdout"
        },
        {
          "output_type": "stream",
          "text": [
            "Training Net: 100%|██████████| 1224/1224 [00:18<00:00, 65.53it/s, Loss_pi=4.12e-01, Loss_v=1.56e-01]\n",
            "Training Net:   1%|          | 7/1224 [00:00<00:18, 67.50it/s, Loss_pi=4.47e-01, Loss_v=1.64e-01]"
          ],
          "name": "stderr"
        },
        {
          "output_type": "stream",
          "text": [
            "EPOCH ::: 10\n"
          ],
          "name": "stdout"
        },
        {
          "output_type": "stream",
          "text": [
            "Training Net: 100%|██████████| 1224/1224 [00:18<00:00, 65.86it/s, Loss_pi=3.97e-01, Loss_v=1.53e-01]\n",
            "2021-05-12 20:44:15 bb450b7c5a31 Coach[71] INFO PITTING AGAINST PREVIOUS VERSION\n",
            "Arena.playGames (1): 100%|██████████| 2/2 [00:06<00:00,  3.26s/it]\n",
            "Arena.playGames (2): 100%|██████████| 2/2 [00:06<00:00,  3.41s/it]\n",
            "2021-05-12 20:44:29 bb450b7c5a31 Coach[71] INFO NEW/PREV WINS : 3 / 1 ; DRAWS : 0\n",
            "2021-05-12 20:44:29 bb450b7c5a31 Coach[71] INFO ACCEPTING NEW MODEL\n"
          ],
          "name": "stderr"
        },
        {
          "output_type": "stream",
          "text": [
            "Checkpoint Directory exists! \n",
            "Checkpoint Directory exists! \n"
          ],
          "name": "stdout"
        },
        {
          "output_type": "stream",
          "text": [
            "2021-05-12 20:44:29 bb450b7c5a31 Coach[71] INFO Starting Iter #7 ...\n",
            "Self Play: 100%|██████████| 10/10 [00:33<00:00,  3.32s/it]\n",
            "Training Net:   0%|          | 0/1299 [00:00<?, ?it/s, Loss_pi=5.51e-01, Loss_v=2.50e-01]"
          ],
          "name": "stderr"
        },
        {
          "output_type": "stream",
          "text": [
            "Checkpoint Directory exists! \n",
            "EPOCH ::: 1\n"
          ],
          "name": "stdout"
        },
        {
          "output_type": "stream",
          "text": [
            "Training Net: 100%|██████████| 1299/1299 [00:19<00:00, 65.66it/s, Loss_pi=5.26e-01, Loss_v=2.02e-01]\n",
            "Training Net:   1%|          | 7/1299 [00:00<00:19, 67.66it/s, Loss_pi=4.27e-01, Loss_v=1.54e-01]"
          ],
          "name": "stderr"
        },
        {
          "output_type": "stream",
          "text": [
            "EPOCH ::: 2\n"
          ],
          "name": "stdout"
        },
        {
          "output_type": "stream",
          "text": [
            "Training Net: 100%|██████████| 1299/1299 [00:19<00:00, 65.64it/s, Loss_pi=4.56e-01, Loss_v=1.73e-01]\n",
            "Training Net:   1%|          | 7/1299 [00:00<00:19, 66.14it/s, Loss_pi=4.32e-01, Loss_v=1.58e-01]"
          ],
          "name": "stderr"
        },
        {
          "output_type": "stream",
          "text": [
            "EPOCH ::: 3\n"
          ],
          "name": "stdout"
        },
        {
          "output_type": "stream",
          "text": [
            "Training Net: 100%|██████████| 1299/1299 [00:19<00:00, 65.65it/s, Loss_pi=4.36e-01, Loss_v=1.68e-01]\n",
            "Training Net:   1%|          | 7/1299 [00:00<00:20, 64.58it/s, Loss_pi=4.42e-01, Loss_v=1.91e-01]"
          ],
          "name": "stderr"
        },
        {
          "output_type": "stream",
          "text": [
            "EPOCH ::: 4\n"
          ],
          "name": "stdout"
        },
        {
          "output_type": "stream",
          "text": [
            "Training Net: 100%|██████████| 1299/1299 [00:19<00:00, 65.68it/s, Loss_pi=4.11e-01, Loss_v=1.61e-01]\n",
            "Training Net:   1%|          | 7/1299 [00:00<00:19, 67.01it/s, Loss_pi=4.01e-01, Loss_v=2.04e-01]"
          ],
          "name": "stderr"
        },
        {
          "output_type": "stream",
          "text": [
            "EPOCH ::: 5\n"
          ],
          "name": "stdout"
        },
        {
          "output_type": "stream",
          "text": [
            "Training Net: 100%|██████████| 1299/1299 [00:19<00:00, 65.70it/s, Loss_pi=4.03e-01, Loss_v=1.59e-01]\n",
            "Training Net:   1%|          | 7/1299 [00:00<00:19, 67.98it/s, Loss_pi=4.32e-01, Loss_v=2.00e-01]"
          ],
          "name": "stderr"
        },
        {
          "output_type": "stream",
          "text": [
            "EPOCH ::: 6\n"
          ],
          "name": "stdout"
        },
        {
          "output_type": "stream",
          "text": [
            "Training Net: 100%|██████████| 1299/1299 [00:19<00:00, 65.59it/s, Loss_pi=3.92e-01, Loss_v=1.53e-01]\n",
            "Training Net:   1%|          | 7/1299 [00:00<00:18, 68.07it/s, Loss_pi=3.73e-01, Loss_v=1.32e-01]"
          ],
          "name": "stderr"
        },
        {
          "output_type": "stream",
          "text": [
            "EPOCH ::: 7\n"
          ],
          "name": "stdout"
        },
        {
          "output_type": "stream",
          "text": [
            "Training Net: 100%|██████████| 1299/1299 [00:19<00:00, 65.65it/s, Loss_pi=3.88e-01, Loss_v=1.50e-01]\n",
            "Training Net:   1%|          | 7/1299 [00:00<00:18, 68.27it/s, Loss_pi=4.04e-01, Loss_v=1.45e-01]"
          ],
          "name": "stderr"
        },
        {
          "output_type": "stream",
          "text": [
            "EPOCH ::: 8\n"
          ],
          "name": "stdout"
        },
        {
          "output_type": "stream",
          "text": [
            "Training Net: 100%|██████████| 1299/1299 [00:19<00:00, 65.59it/s, Loss_pi=3.87e-01, Loss_v=1.51e-01]\n",
            "Training Net:   1%|          | 7/1299 [00:00<00:19, 66.43it/s, Loss_pi=3.62e-01, Loss_v=1.30e-01]"
          ],
          "name": "stderr"
        },
        {
          "output_type": "stream",
          "text": [
            "EPOCH ::: 9\n"
          ],
          "name": "stdout"
        },
        {
          "output_type": "stream",
          "text": [
            "Training Net: 100%|██████████| 1299/1299 [00:19<00:00, 65.67it/s, Loss_pi=3.80e-01, Loss_v=1.53e-01]\n",
            "Training Net:   1%|          | 7/1299 [00:00<00:18, 68.94it/s, Loss_pi=3.86e-01, Loss_v=1.36e-01]"
          ],
          "name": "stderr"
        },
        {
          "output_type": "stream",
          "text": [
            "EPOCH ::: 10\n"
          ],
          "name": "stdout"
        },
        {
          "output_type": "stream",
          "text": [
            "Training Net: 100%|██████████| 1299/1299 [00:19<00:00, 65.68it/s, Loss_pi=3.82e-01, Loss_v=1.49e-01]\n",
            "2021-05-12 20:48:37 bb450b7c5a31 Coach[71] INFO PITTING AGAINST PREVIOUS VERSION\n",
            "Arena.playGames (1): 100%|██████████| 2/2 [00:06<00:00,  3.18s/it]\n",
            "Arena.playGames (2): 100%|██████████| 2/2 [00:07<00:00,  3.50s/it]\n",
            "2021-05-12 20:48:50 bb450b7c5a31 Coach[71] INFO NEW/PREV WINS : 3 / 1 ; DRAWS : 0\n",
            "2021-05-12 20:48:50 bb450b7c5a31 Coach[71] INFO ACCEPTING NEW MODEL\n"
          ],
          "name": "stderr"
        },
        {
          "output_type": "stream",
          "text": [
            "Checkpoint Directory exists! \n",
            "Checkpoint Directory exists! \n"
          ],
          "name": "stdout"
        },
        {
          "output_type": "stream",
          "text": [
            "2021-05-12 20:48:50 bb450b7c5a31 Coach[71] INFO Starting Iter #8 ...\n",
            "Self Play: 100%|██████████| 10/10 [00:33<00:00,  3.37s/it]\n",
            "2021-05-12 20:49:24 bb450b7c5a31 Coach[71] WARNING Removing the oldest entry in trainExamples. len(trainExamplesHistory) = 21\n",
            "Training Net:   0%|          | 0/1367 [00:00<?, ?it/s, Loss_pi=4.82e-01, Loss_v=2.18e-01]"
          ],
          "name": "stderr"
        },
        {
          "output_type": "stream",
          "text": [
            "Checkpoint Directory exists! \n",
            "EPOCH ::: 1\n"
          ],
          "name": "stdout"
        },
        {
          "output_type": "stream",
          "text": [
            "Training Net: 100%|██████████| 1367/1367 [00:20<00:00, 65.61it/s, Loss_pi=4.94e-01, Loss_v=1.83e-01]\n",
            "Training Net:   1%|          | 7/1367 [00:00<00:20, 66.31it/s, Loss_pi=4.22e-01, Loss_v=1.56e-01]"
          ],
          "name": "stderr"
        },
        {
          "output_type": "stream",
          "text": [
            "EPOCH ::: 2\n"
          ],
          "name": "stdout"
        },
        {
          "output_type": "stream",
          "text": [
            "Training Net: 100%|██████████| 1367/1367 [00:20<00:00, 65.79it/s, Loss_pi=4.29e-01, Loss_v=1.60e-01]\n",
            "Training Net:   1%|          | 7/1367 [00:00<00:19, 69.19it/s, Loss_pi=4.10e-01, Loss_v=1.60e-01]"
          ],
          "name": "stderr"
        },
        {
          "output_type": "stream",
          "text": [
            "EPOCH ::: 3\n"
          ],
          "name": "stdout"
        },
        {
          "output_type": "stream",
          "text": [
            "Training Net: 100%|██████████| 1367/1367 [00:20<00:00, 65.62it/s, Loss_pi=4.03e-01, Loss_v=1.53e-01]\n",
            "Training Net:   1%|          | 7/1367 [00:00<00:19, 68.35it/s, Loss_pi=4.00e-01, Loss_v=1.49e-01]"
          ],
          "name": "stderr"
        },
        {
          "output_type": "stream",
          "text": [
            "EPOCH ::: 4\n"
          ],
          "name": "stdout"
        },
        {
          "output_type": "stream",
          "text": [
            "Training Net: 100%|██████████| 1367/1367 [00:20<00:00, 65.74it/s, Loss_pi=3.91e-01, Loss_v=1.52e-01]\n",
            "Training Net:   1%|          | 7/1367 [00:00<00:20, 66.90it/s, Loss_pi=3.61e-01, Loss_v=1.42e-01]"
          ],
          "name": "stderr"
        },
        {
          "output_type": "stream",
          "text": [
            "EPOCH ::: 5\n"
          ],
          "name": "stdout"
        },
        {
          "output_type": "stream",
          "text": [
            "Training Net: 100%|██████████| 1367/1367 [00:20<00:00, 65.77it/s, Loss_pi=3.85e-01, Loss_v=1.51e-01]\n",
            "Training Net:   1%|          | 7/1367 [00:00<00:20, 65.50it/s, Loss_pi=3.51e-01, Loss_v=1.27e-01]"
          ],
          "name": "stderr"
        },
        {
          "output_type": "stream",
          "text": [
            "EPOCH ::: 6\n"
          ],
          "name": "stdout"
        },
        {
          "output_type": "stream",
          "text": [
            "Training Net: 100%|██████████| 1367/1367 [00:20<00:00, 65.76it/s, Loss_pi=3.76e-01, Loss_v=1.50e-01]\n",
            "Training Net:   1%|          | 7/1367 [00:00<00:20, 65.84it/s, Loss_pi=3.97e-01, Loss_v=1.65e-01]"
          ],
          "name": "stderr"
        },
        {
          "output_type": "stream",
          "text": [
            "EPOCH ::: 7\n"
          ],
          "name": "stdout"
        },
        {
          "output_type": "stream",
          "text": [
            "Training Net: 100%|██████████| 1367/1367 [00:20<00:00, 65.70it/s, Loss_pi=3.74e-01, Loss_v=1.48e-01]\n",
            "Training Net:   1%|          | 7/1367 [00:00<00:20, 67.59it/s, Loss_pi=3.71e-01, Loss_v=1.44e-01]"
          ],
          "name": "stderr"
        },
        {
          "output_type": "stream",
          "text": [
            "EPOCH ::: 8\n"
          ],
          "name": "stdout"
        },
        {
          "output_type": "stream",
          "text": [
            "Training Net: 100%|██████████| 1367/1367 [00:20<00:00, 65.54it/s, Loss_pi=3.69e-01, Loss_v=1.48e-01]\n",
            "Training Net:   1%|          | 7/1367 [00:00<00:20, 67.74it/s, Loss_pi=3.17e-01, Loss_v=1.23e-01]"
          ],
          "name": "stderr"
        },
        {
          "output_type": "stream",
          "text": [
            "EPOCH ::: 9\n"
          ],
          "name": "stdout"
        },
        {
          "output_type": "stream",
          "text": [
            "Training Net: 100%|██████████| 1367/1367 [00:20<00:00, 65.72it/s, Loss_pi=3.66e-01, Loss_v=1.43e-01]\n",
            "Training Net:   1%|          | 7/1367 [00:00<00:20, 66.66it/s, Loss_pi=3.80e-01, Loss_v=1.35e-01]"
          ],
          "name": "stderr"
        },
        {
          "output_type": "stream",
          "text": [
            "EPOCH ::: 10\n"
          ],
          "name": "stdout"
        },
        {
          "output_type": "stream",
          "text": [
            "Training Net: 100%|██████████| 1367/1367 [00:20<00:00, 65.82it/s, Loss_pi=3.62e-01, Loss_v=1.43e-01]\n",
            "2021-05-12 20:53:09 bb450b7c5a31 Coach[71] INFO PITTING AGAINST PREVIOUS VERSION\n",
            "Arena.playGames (1): 100%|██████████| 2/2 [00:06<00:00,  3.34s/it]\n",
            "Arena.playGames (2): 100%|██████████| 2/2 [00:06<00:00,  3.33s/it]\n",
            "2021-05-12 20:53:23 bb450b7c5a31 Coach[71] INFO NEW/PREV WINS : 2 / 2 ; DRAWS : 0\n",
            "2021-05-12 20:53:23 bb450b7c5a31 Coach[71] INFO REJECTING NEW MODEL\n",
            "2021-05-12 20:53:23 bb450b7c5a31 Coach[71] INFO Starting Iter #9 ...\n",
            "Self Play: 100%|██████████| 10/10 [00:34<00:00,  3.44s/it]\n",
            "2021-05-12 20:53:57 bb450b7c5a31 Coach[71] WARNING Removing the oldest entry in trainExamples. len(trainExamplesHistory) = 21\n",
            "Training Net:   0%|          | 0/1435 [00:00<?, ?it/s, Loss_pi=4.68e-01, Loss_v=1.66e-01]"
          ],
          "name": "stderr"
        },
        {
          "output_type": "stream",
          "text": [
            "Checkpoint Directory exists! \n",
            "EPOCH ::: 1\n"
          ],
          "name": "stdout"
        },
        {
          "output_type": "stream",
          "text": [
            "Training Net: 100%|██████████| 1435/1435 [00:21<00:00, 65.53it/s, Loss_pi=5.91e-01, Loss_v=2.26e-01]\n",
            "Training Net:   0%|          | 7/1435 [00:00<00:21, 65.88it/s, Loss_pi=5.44e-01, Loss_v=2.23e-01]"
          ],
          "name": "stderr"
        },
        {
          "output_type": "stream",
          "text": [
            "EPOCH ::: 2\n"
          ],
          "name": "stdout"
        },
        {
          "output_type": "stream",
          "text": [
            "Training Net: 100%|██████████| 1435/1435 [00:21<00:00, 65.71it/s, Loss_pi=4.85e-01, Loss_v=1.81e-01]\n",
            "Training Net:   0%|          | 7/1435 [00:00<00:20, 68.54it/s, Loss_pi=4.38e-01, Loss_v=1.75e-01]"
          ],
          "name": "stderr"
        },
        {
          "output_type": "stream",
          "text": [
            "EPOCH ::: 3\n"
          ],
          "name": "stdout"
        },
        {
          "output_type": "stream",
          "text": [
            "Training Net: 100%|██████████| 1435/1435 [00:21<00:00, 65.70it/s, Loss_pi=4.45e-01, Loss_v=1.67e-01]\n",
            "Training Net:   0%|          | 7/1435 [00:00<00:21, 66.95it/s, Loss_pi=4.42e-01, Loss_v=1.67e-01]"
          ],
          "name": "stderr"
        },
        {
          "output_type": "stream",
          "text": [
            "EPOCH ::: 4\n"
          ],
          "name": "stdout"
        },
        {
          "output_type": "stream",
          "text": [
            "Training Net: 100%|██████████| 1435/1435 [00:21<00:00, 65.72it/s, Loss_pi=4.14e-01, Loss_v=1.58e-01]\n",
            "Training Net:   0%|          | 7/1435 [00:00<00:21, 66.96it/s, Loss_pi=3.99e-01, Loss_v=1.80e-01]"
          ],
          "name": "stderr"
        },
        {
          "output_type": "stream",
          "text": [
            "EPOCH ::: 5\n"
          ],
          "name": "stdout"
        },
        {
          "output_type": "stream",
          "text": [
            "Training Net: 100%|██████████| 1435/1435 [00:21<00:00, 65.72it/s, Loss_pi=4.00e-01, Loss_v=1.56e-01]\n",
            "Training Net:   0%|          | 7/1435 [00:00<00:21, 67.19it/s, Loss_pi=3.46e-01, Loss_v=1.62e-01]"
          ],
          "name": "stderr"
        },
        {
          "output_type": "stream",
          "text": [
            "EPOCH ::: 6\n"
          ],
          "name": "stdout"
        },
        {
          "output_type": "stream",
          "text": [
            "Training Net: 100%|██████████| 1435/1435 [00:21<00:00, 65.75it/s, Loss_pi=3.86e-01, Loss_v=1.54e-01]\n",
            "Training Net:   0%|          | 7/1435 [00:00<00:21, 67.70it/s, Loss_pi=3.75e-01, Loss_v=1.37e-01]"
          ],
          "name": "stderr"
        },
        {
          "output_type": "stream",
          "text": [
            "EPOCH ::: 7\n"
          ],
          "name": "stdout"
        },
        {
          "output_type": "stream",
          "text": [
            "Training Net: 100%|██████████| 1435/1435 [00:21<00:00, 65.78it/s, Loss_pi=3.83e-01, Loss_v=1.51e-01]\n",
            "Training Net:   0%|          | 7/1435 [00:00<00:20, 68.17it/s, Loss_pi=3.89e-01, Loss_v=1.54e-01]"
          ],
          "name": "stderr"
        },
        {
          "output_type": "stream",
          "text": [
            "EPOCH ::: 8\n"
          ],
          "name": "stdout"
        },
        {
          "output_type": "stream",
          "text": [
            "Training Net: 100%|██████████| 1435/1435 [00:21<00:00, 65.68it/s, Loss_pi=3.78e-01, Loss_v=1.48e-01]\n",
            "Training Net:   0%|          | 7/1435 [00:00<00:20, 69.10it/s, Loss_pi=4.29e-01, Loss_v=1.54e-01]"
          ],
          "name": "stderr"
        },
        {
          "output_type": "stream",
          "text": [
            "EPOCH ::: 9\n"
          ],
          "name": "stdout"
        },
        {
          "output_type": "stream",
          "text": [
            "Training Net: 100%|██████████| 1435/1435 [00:21<00:00, 65.42it/s, Loss_pi=3.71e-01, Loss_v=1.48e-01]\n",
            "Training Net:   0%|          | 7/1435 [00:00<00:21, 67.97it/s, Loss_pi=3.95e-01, Loss_v=1.35e-01]"
          ],
          "name": "stderr"
        },
        {
          "output_type": "stream",
          "text": [
            "EPOCH ::: 10\n"
          ],
          "name": "stdout"
        },
        {
          "output_type": "stream",
          "text": [
            "Training Net: 100%|██████████| 1435/1435 [00:21<00:00, 65.70it/s, Loss_pi=3.67e-01, Loss_v=1.45e-01]\n",
            "2021-05-12 20:57:54 bb450b7c5a31 Coach[71] INFO PITTING AGAINST PREVIOUS VERSION\n",
            "Arena.playGames (1): 100%|██████████| 2/2 [00:06<00:00,  3.30s/it]\n",
            "Arena.playGames (2): 100%|██████████| 2/2 [00:06<00:00,  3.38s/it]\n",
            "2021-05-12 20:58:07 bb450b7c5a31 Coach[71] INFO NEW/PREV WINS : 2 / 2 ; DRAWS : 0\n",
            "2021-05-12 20:58:07 bb450b7c5a31 Coach[71] INFO REJECTING NEW MODEL\n",
            "2021-05-12 20:58:08 bb450b7c5a31 Coach[71] INFO Starting Iter #10 ...\n",
            "Self Play: 100%|██████████| 10/10 [00:33<00:00,  3.36s/it]\n",
            "2021-05-12 20:58:41 bb450b7c5a31 Coach[71] WARNING Removing the oldest entry in trainExamples. len(trainExamplesHistory) = 21\n",
            "Training Net:   0%|          | 0/1503 [00:00<?, ?it/s, Loss_pi=7.73e-01, Loss_v=3.41e-01]"
          ],
          "name": "stderr"
        },
        {
          "output_type": "stream",
          "text": [
            "Checkpoint Directory exists! \n",
            "EPOCH ::: 1\n"
          ],
          "name": "stdout"
        },
        {
          "output_type": "stream",
          "text": [
            "Training Net: 100%|██████████| 1503/1503 [00:22<00:00, 65.66it/s, Loss_pi=6.79e-01, Loss_v=2.63e-01]\n",
            "Training Net:   0%|          | 7/1503 [00:00<00:22, 67.90it/s, Loss_pi=6.21e-01, Loss_v=2.14e-01]"
          ],
          "name": "stderr"
        },
        {
          "output_type": "stream",
          "text": [
            "EPOCH ::: 2\n"
          ],
          "name": "stdout"
        },
        {
          "output_type": "stream",
          "text": [
            "Training Net: 100%|██████████| 1503/1503 [00:22<00:00, 65.63it/s, Loss_pi=5.36e-01, Loss_v=2.04e-01]\n",
            "Training Net:   0%|          | 7/1503 [00:00<00:22, 67.61it/s, Loss_pi=5.33e-01, Loss_v=2.06e-01]"
          ],
          "name": "stderr"
        },
        {
          "output_type": "stream",
          "text": [
            "EPOCH ::: 3\n"
          ],
          "name": "stdout"
        },
        {
          "output_type": "stream",
          "text": [
            "Training Net: 100%|██████████| 1503/1503 [00:22<00:00, 65.55it/s, Loss_pi=4.76e-01, Loss_v=1.81e-01]\n",
            "Training Net:   0%|          | 7/1503 [00:00<00:22, 66.80it/s, Loss_pi=4.82e-01, Loss_v=1.61e-01]"
          ],
          "name": "stderr"
        },
        {
          "output_type": "stream",
          "text": [
            "EPOCH ::: 4\n"
          ],
          "name": "stdout"
        },
        {
          "output_type": "stream",
          "text": [
            "Training Net: 100%|██████████| 1503/1503 [00:22<00:00, 65.49it/s, Loss_pi=4.35e-01, Loss_v=1.69e-01]\n",
            "Training Net:   0%|          | 7/1503 [00:00<00:21, 68.08it/s, Loss_pi=4.35e-01, Loss_v=1.92e-01]"
          ],
          "name": "stderr"
        },
        {
          "output_type": "stream",
          "text": [
            "EPOCH ::: 5\n"
          ],
          "name": "stdout"
        },
        {
          "output_type": "stream",
          "text": [
            "Training Net: 100%|██████████| 1503/1503 [00:22<00:00, 65.70it/s, Loss_pi=4.20e-01, Loss_v=1.66e-01]\n",
            "Training Net:   0%|          | 7/1503 [00:00<00:22, 67.97it/s, Loss_pi=4.56e-01, Loss_v=2.08e-01]"
          ],
          "name": "stderr"
        },
        {
          "output_type": "stream",
          "text": [
            "EPOCH ::: 6\n"
          ],
          "name": "stdout"
        },
        {
          "output_type": "stream",
          "text": [
            "Training Net: 100%|██████████| 1503/1503 [00:22<00:00, 65.60it/s, Loss_pi=4.04e-01, Loss_v=1.59e-01]\n",
            "Training Net:   0%|          | 7/1503 [00:00<00:21, 68.18it/s, Loss_pi=3.86e-01, Loss_v=1.77e-01]"
          ],
          "name": "stderr"
        },
        {
          "output_type": "stream",
          "text": [
            "EPOCH ::: 7\n"
          ],
          "name": "stdout"
        },
        {
          "output_type": "stream",
          "text": [
            "Training Net: 100%|██████████| 1503/1503 [00:22<00:00, 65.57it/s, Loss_pi=3.94e-01, Loss_v=1.56e-01]\n",
            "Training Net:   0%|          | 7/1503 [00:00<00:22, 67.67it/s, Loss_pi=3.73e-01, Loss_v=1.65e-01]"
          ],
          "name": "stderr"
        },
        {
          "output_type": "stream",
          "text": [
            "EPOCH ::: 8\n"
          ],
          "name": "stdout"
        },
        {
          "output_type": "stream",
          "text": [
            "Training Net: 100%|██████████| 1503/1503 [00:22<00:00, 65.66it/s, Loss_pi=3.85e-01, Loss_v=1.55e-01]\n",
            "Training Net:   0%|          | 7/1503 [00:00<00:21, 68.32it/s, Loss_pi=3.85e-01, Loss_v=1.46e-01]"
          ],
          "name": "stderr"
        },
        {
          "output_type": "stream",
          "text": [
            "EPOCH ::: 9\n"
          ],
          "name": "stdout"
        },
        {
          "output_type": "stream",
          "text": [
            "Training Net: 100%|██████████| 1503/1503 [00:22<00:00, 65.80it/s, Loss_pi=3.79e-01, Loss_v=1.50e-01]\n",
            "Training Net:   0%|          | 7/1503 [00:00<00:21, 69.14it/s, Loss_pi=4.17e-01, Loss_v=1.69e-01]"
          ],
          "name": "stderr"
        },
        {
          "output_type": "stream",
          "text": [
            "EPOCH ::: 10\n"
          ],
          "name": "stdout"
        },
        {
          "output_type": "stream",
          "text": [
            "Training Net: 100%|██████████| 1503/1503 [00:22<00:00, 65.48it/s, Loss_pi=3.76e-01, Loss_v=1.55e-01]\n",
            "2021-05-12 21:02:50 bb450b7c5a31 Coach[71] INFO PITTING AGAINST PREVIOUS VERSION\n",
            "Arena.playGames (1): 100%|██████████| 2/2 [00:06<00:00,  3.34s/it]\n",
            "Arena.playGames (2): 100%|██████████| 2/2 [00:06<00:00,  3.38s/it]\n",
            "2021-05-12 21:03:03 bb450b7c5a31 Coach[71] INFO NEW/PREV WINS : 3 / 1 ; DRAWS : 0\n",
            "2021-05-12 21:03:03 bb450b7c5a31 Coach[71] INFO ACCEPTING NEW MODEL\n"
          ],
          "name": "stderr"
        },
        {
          "output_type": "stream",
          "text": [
            "Checkpoint Directory exists! \n",
            "Checkpoint Directory exists! \n",
            "CPU times: user 40min 19s, sys: 1min 2s, total: 41min 21s\n",
            "Wall time: 40min 22s\n"
          ],
          "name": "stdout"
        }
      ]
    }
  ]
}