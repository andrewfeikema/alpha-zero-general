{
  "nbformat": 4,
  "nbformat_minor": 0,
  "metadata": {
    "colab": {
      "name": "Othello Train Trial using AlphaZero General.ipynb",
      "provenance": [],
      "collapsed_sections": [],
      "machine_shape": "hm",
      "include_colab_link": true
    },
    "kernelspec": {
      "name": "python3",
      "display_name": "Python 3"
    },
    "accelerator": "GPU"
  },
  "cells": [
    {
      "cell_type": "markdown",
      "metadata": {
        "id": "view-in-github",
        "colab_type": "text"
      },
      "source": [
        "<a href=\"https://colab.research.google.com/github/andrewfeikema/alpha-zero-general/blob/master/Othello_Train_Trial_using_AlphaZero_General.ipynb\" target=\"_parent\"><img src=\"https://colab.research.google.com/assets/colab-badge.svg\" alt=\"Open In Colab\"/></a>"
      ]
    },
    {
      "cell_type": "markdown",
      "metadata": {
        "id": "HkvJ-kBlWXHW"
      },
      "source": [
        "# **Setup, install dependencies**"
      ]
    },
    {
      "cell_type": "code",
      "metadata": {
        "id": "Ji7OkVsnExHk",
        "colab": {
          "base_uri": "https://localhost:8080/"
        },
        "outputId": "6eda621d-f235-473f-bbbb-555ce3588bf1"
      },
      "source": [
        "# Clone repo and install requirements\n",
        "\n",
        "!git clone https://github.com/andrewfeikema/alpha-zero-general.git"
      ],
      "execution_count": 1,
      "outputs": [
        {
          "output_type": "stream",
          "text": [
            "fatal: destination path 'alpha-zero-general' already exists and is not an empty directory.\n"
          ],
          "name": "stdout"
        }
      ]
    },
    {
      "cell_type": "code",
      "metadata": {
        "id": "SadDZdC2lQXS",
        "colab": {
          "base_uri": "https://localhost:8080/"
        },
        "outputId": "311e9004-5c73-47f0-df0e-07dbf8a7b02e"
      },
      "source": [
        "%cd '/content/alpha-zero-general'"
      ],
      "execution_count": 2,
      "outputs": [
        {
          "output_type": "stream",
          "text": [
            "/content/alpha-zero-general\n"
          ],
          "name": "stdout"
        }
      ]
    },
    {
      "cell_type": "code",
      "metadata": {
        "id": "AvtLNTQTWl4c",
        "colab": {
          "base_uri": "https://localhost:8080/"
        },
        "outputId": "c12c36a1-1b20-4006-aa21-18e8d9d2d33c"
      },
      "source": [
        "!git checkout -t origin/master"
      ],
      "execution_count": 3,
      "outputs": [
        {
          "output_type": "stream",
          "text": [
            "fatal: A branch named 'master' already exists.\n"
          ],
          "name": "stdout"
        }
      ]
    },
    {
      "cell_type": "code",
      "metadata": {
        "id": "w1483UJ1lS3J",
        "colab": {
          "base_uri": "https://localhost:8080/"
        },
        "outputId": "a3197d6f-f43e-4995-cd82-64dac820399f"
      },
      "source": [
        "!pip install -r docker/requirements.txt"
      ],
      "execution_count": 20,
      "outputs": [
        {
          "output_type": "stream",
          "text": [
            "Requirement already satisfied: cffi==1.14.5 in /usr/local/lib/python3.7/dist-packages (from -r docker/requirements.txt (line 1)) (1.14.5)\n",
            "Requirement already satisfied: coloredlogs==14.0 in /usr/local/lib/python3.7/dist-packages (from -r docker/requirements.txt (line 2)) (14.0)\n",
            "Requirement already satisfied: cython==0.29.22 in /usr/local/lib/python3.7/dist-packages (from -r docker/requirements.txt (line 3)) (0.29.22)\n",
            "Requirement already satisfied: flask==1.1.2 in /usr/local/lib/python3.7/dist-packages (from -r docker/requirements.txt (line 4)) (1.1.2)\n",
            "Requirement already satisfied: gitpython==2.1.11 in /usr/local/lib/python3.7/dist-packages (from -r docker/requirements.txt (line 5)) (2.1.11)\n",
            "Requirement already satisfied: matplotlib==2.1.1 in /usr/local/lib/python3.7/dist-packages (from -r docker/requirements.txt (line 6)) (2.1.1)\n",
            "Requirement already satisfied: numpy==1.14.5 in /usr/local/lib/python3.7/dist-packages (from -r docker/requirements.txt (line 7)) (1.14.5)\n",
            "Collecting pandas==0.23.1\n",
            "  Using cached https://files.pythonhosted.org/packages/27/85/f9e4f0e47a6f1410b1d737b74a1764868e9197e3197a2be843507b505636/pandas-0.23.1.tar.gz\n",
            "Requirement already satisfied: scipy==1.1.0 in /usr/local/lib/python3.7/dist-packages (from -r docker/requirements.txt (line 9)) (1.1.0)\n",
            "Collecting scikit-learn==0.19.1\n",
            "  Using cached https://files.pythonhosted.org/packages/f5/2c/5edf2488897cad4fb8c4ace86369833552615bf264460ae4ef6e1f258982/scikit-learn-0.19.1.tar.gz\n",
            "Collecting scikit-image==0.14.0\n",
            "  Using cached https://files.pythonhosted.org/packages/d6/ae/c9ea76fb37724596bd031e98f7f356936cabc39e5c57f27d56f08e6d52f2/scikit_image-0.14.0-cp37-cp37m-manylinux1_x86_64.whl\n",
            "Processing /root/.cache/pip/wheels/b1/c3/d6/9a1cc8f3a99a0fc1124cae20153f36af59a6e683daca0a0814/torchfile-0.1.0-cp37-none-any.whl\n",
            "\u001b[31mERROR: Operation cancelled by user\u001b[0m\n"
          ],
          "name": "stdout"
        }
      ]
    },
    {
      "cell_type": "markdown",
      "metadata": {
        "id": "QNEo96LdWxd8"
      },
      "source": [
        "# **Train the AlphaZero model**"
      ]
    },
    {
      "cell_type": "code",
      "metadata": {
        "id": "vsMxLhdKWO-H"
      },
      "source": [
        "import logging\n",
        "import coloredlogs\n",
        "from Coach import Coach\n",
        "from utils import dotdict\n",
        "from othello.pytorch.NNet import NNetWrapper\n",
        "from othello.OthelloGame import OthelloGame"
      ],
      "execution_count": 5,
      "outputs": []
    },
    {
      "cell_type": "code",
      "metadata": {
        "id": "pJi0kk_djiKm"
      },
      "source": [
        "log = logging.getLogger(__name__)\n",
        "coloredlogs.install(level='INFO')  # Change this to DEBUG to see more info."
      ],
      "execution_count": 6,
      "outputs": []
    },
    {
      "cell_type": "code",
      "metadata": {
        "id": "WzIsb1wGVXkE"
      },
      "source": [
        "args = dotdict({\n",
        "    'numIters': 1000,\n",
        "    'numEps': 100,              # Number of complete self-play games to simulate during a new iteration.\n",
        "    'tempThreshold': 15,        #\n",
        "    'updateThreshold': 0.6,     # During arena playoff, new neural net will be accepted if threshold or more of games are won.\n",
        "    'maxlenOfQueue': 200000,    # Number of game examples to train the neural networks.\n",
        "    'numMCTSSims': 25,          # Number of games moves for MCTS to simulate.\n",
        "    'arenaCompare': 40,         # Number of games to play during arena play to determine if new net will be accepted.\n",
        "    'cpuct': 1,\n",
        "    'checkpoint': './temp/',\n",
        "    'load_model': False,\n",
        "    'numItersForTrainExamplesHistory': 20,\n",
        "})"
      ],
      "execution_count": 7,
      "outputs": []
    },
    {
      "cell_type": "code",
      "metadata": {
        "id": "W8_4QdwlXZ3k",
        "colab": {
          "base_uri": "https://localhost:8080/"
        },
        "outputId": "db57b9ea-14bd-465b-d5c0-ae8786284e6c"
      },
      "source": [
        "# If you have a pre-trained model, you can load it here.\n",
        "import os\n",
        "if os.path.exists(os.path.join('./temp', 'best.pth.tar.index')):\n",
        "  print (\"Using best pre-existing model\")\n",
        "  args['load_model'] = True\n",
        "  args['load_folder_file'] = ('./temp','best.pth.tar')\n",
        "else:\n",
        "  print (\"Not using best pre-existing model\")"
      ],
      "execution_count": 8,
      "outputs": [
        {
          "output_type": "stream",
          "text": [
            "Not using best pre-existing model\n"
          ],
          "name": "stdout"
        }
      ]
    },
    {
      "cell_type": "code",
      "metadata": {
        "id": "_oIZd4tVXGjI"
      },
      "source": [
        "# Set very low iterations to let this notebook run in its entirety.\n",
        "\n",
        "# In reality, training a model, even as simple as the one for Dots and Boxes, can take several hours or days.\n",
        "args['numIters'] = 1\n",
        "args['numEps'] = 1\n",
        "args['arenaCompare'] = 2"
      ],
      "execution_count": 9,
      "outputs": []
    },
    {
      "cell_type": "code",
      "metadata": {
        "id": "c5fKMHufYD3m"
      },
      "source": [
        "game = OthelloGame(n=8)"
      ],
      "execution_count": 10,
      "outputs": []
    },
    {
      "cell_type": "code",
      "metadata": {
        "id": "VGKmzJ9kYF9O"
      },
      "source": [
        "nnet = NNetWrapper(game)"
      ],
      "execution_count": 11,
      "outputs": []
    },
    {
      "cell_type": "code",
      "metadata": {
        "id": "KvkW0rl9YHeE",
        "colab": {
          "base_uri": "https://localhost:8080/"
        },
        "outputId": "4d2e3227-b0c3-4769-9452-272888740db4"
      },
      "source": [
        "if args.load_model:\n",
        "    print('Loading checkpoint \"{}/{}\"...'.format(args.load_folder_file[0], args.load_folder_file[1]))\n",
        "    nnet.load_checkpoint(args.load_folder_file[0], args.load_folder_file[1])\n",
        "else:\n",
        "    print('Not loading a checkpoint.')"
      ],
      "execution_count": 12,
      "outputs": [
        {
          "output_type": "stream",
          "text": [
            "Not loading a checkpoint.\n"
          ],
          "name": "stdout"
        }
      ]
    },
    {
      "cell_type": "code",
      "metadata": {
        "id": "ESToLzAkYKED"
      },
      "source": [
        "coach = Coach(game, nnet, args)"
      ],
      "execution_count": 13,
      "outputs": []
    },
    {
      "cell_type": "code",
      "metadata": {
        "id": "0uJRc2aRVjN-",
        "colab": {
          "base_uri": "https://localhost:8080/"
        },
        "outputId": "c0b3d7f0-683a-43ad-d8a7-5421f07fcd0d"
      },
      "source": [
        "%time coach.learn()"
      ],
      "execution_count": 14,
      "outputs": [
        {
          "output_type": "stream",
          "text": [
            "2021-05-12 18:41:05 22635aaa6a54 Coach[31036] INFO Starting Iter #1 ...\n",
            "Self Play: 100%|██████████| 1/1 [00:03<00:00,  3.21s/it]\n",
            "Training Net:   0%|          | 0/7 [00:00<?, ?it/s]"
          ],
          "name": "stderr"
        },
        {
          "output_type": "stream",
          "text": [
            "Checkpoint Directory exists! \n",
            "EPOCH ::: 1\n"
          ],
          "name": "stdout"
        },
        {
          "output_type": "stream",
          "text": [
            "Training Net: 100%|██████████| 7/7 [00:00<00:00, 50.04it/s, Loss_pi=3.99e+00, Loss_v=6.77e-01]\n",
            "Training Net: 100%|██████████| 7/7 [00:00<00:00, 87.95it/s, Loss_pi=3.56e+00, Loss_v=4.01e-01]\n",
            "Training Net: 100%|██████████| 7/7 [00:00<00:00, 91.33it/s, Loss_pi=3.35e+00, Loss_v=2.36e-01]\n",
            "Training Net:   0%|          | 0/7 [00:00<?, ?it/s, Loss_pi=3.16e+00, Loss_v=1.51e-01]"
          ],
          "name": "stderr"
        },
        {
          "output_type": "stream",
          "text": [
            "EPOCH ::: 2\n",
            "EPOCH ::: 3\n",
            "EPOCH ::: 4\n"
          ],
          "name": "stdout"
        },
        {
          "output_type": "stream",
          "text": [
            "Training Net: 100%|██████████| 7/7 [00:00<00:00, 94.38it/s, Loss_pi=3.11e+00, Loss_v=1.18e-01]\n",
            "Training Net: 100%|██████████| 7/7 [00:00<00:00, 93.29it/s, Loss_pi=2.92e+00, Loss_v=1.10e-01]\n",
            "Training Net: 100%|██████████| 7/7 [00:00<00:00, 93.50it/s, Loss_pi=2.65e+00, Loss_v=5.71e-02]\n",
            "Training Net:   0%|          | 0/7 [00:00<?, ?it/s, Loss_pi=2.40e+00, Loss_v=6.77e-02]"
          ],
          "name": "stderr"
        },
        {
          "output_type": "stream",
          "text": [
            "EPOCH ::: 5\n",
            "EPOCH ::: 6\n",
            "EPOCH ::: 7\n"
          ],
          "name": "stdout"
        },
        {
          "output_type": "stream",
          "text": [
            "Training Net: 100%|██████████| 7/7 [00:00<00:00, 95.16it/s, Loss_pi=2.38e+00, Loss_v=6.58e-02]\n",
            "Training Net: 100%|██████████| 7/7 [00:00<00:00, 91.59it/s, Loss_pi=2.21e+00, Loss_v=2.46e-02]\n",
            "Training Net: 100%|██████████| 7/7 [00:00<00:00, 93.69it/s, Loss_pi=1.95e+00, Loss_v=2.09e-02]\n",
            "Training Net:   0%|          | 0/7 [00:00<?, ?it/s, Loss_pi=1.75e+00, Loss_v=3.73e-02]"
          ],
          "name": "stderr"
        },
        {
          "output_type": "stream",
          "text": [
            "EPOCH ::: 8\n",
            "EPOCH ::: 9\n",
            "EPOCH ::: 10\n"
          ],
          "name": "stdout"
        },
        {
          "output_type": "stream",
          "text": [
            "Training Net: 100%|██████████| 7/7 [00:00<00:00, 96.75it/s, Loss_pi=1.70e+00, Loss_v=3.09e-02]\n",
            "2021-05-12 18:41:09 22635aaa6a54 Coach[31036] INFO PITTING AGAINST PREVIOUS VERSION\n",
            "Arena.playGames (1): 100%|██████████| 1/1 [00:03<00:00,  3.09s/it]\n",
            "Arena.playGames (2): 100%|██████████| 1/1 [00:03<00:00,  3.26s/it]\n",
            "2021-05-12 18:41:16 22635aaa6a54 Coach[31036] INFO NEW/PREV WINS : 1 / 1 ; DRAWS : 0\n",
            "2021-05-12 18:41:16 22635aaa6a54 Coach[31036] INFO REJECTING NEW MODEL\n"
          ],
          "name": "stderr"
        },
        {
          "output_type": "stream",
          "text": [
            "CPU times: user 10.6 s, sys: 153 ms, total: 10.7 s\n",
            "Wall time: 10.8 s\n"
          ],
          "name": "stdout"
        }
      ]
    },
    {
      "cell_type": "markdown",
      "metadata": {
        "id": "eev0wc-53w11"
      },
      "source": [
        "**Exploring the model**"
      ]
    },
    {
      "cell_type": "code",
      "metadata": {
        "colab": {
          "base_uri": "https://localhost:8080/"
        },
        "id": "Rlci5g7JtrUu",
        "outputId": "b14dc632-8cb4-4c84-e3cc-90c876967301"
      },
      "source": [
        "!ls ./temp/"
      ],
      "execution_count": 19,
      "outputs": [
        {
          "output_type": "stream",
          "text": [
            "checkpoint_0.pth.tar.examples  temp.pth.tar\n"
          ],
          "name": "stdout"
        }
      ]
    }
  ]
}