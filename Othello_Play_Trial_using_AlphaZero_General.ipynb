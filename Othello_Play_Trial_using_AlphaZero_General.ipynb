{
  "nbformat": 4,
  "nbformat_minor": 0,
  "metadata": {
    "colab": {
      "name": "Othello Play Trial using AlphaZero General.ipynb",
      "provenance": [],
      "collapsed_sections": [],
      "toc_visible": true,
      "machine_shape": "hm",
      "include_colab_link": true
    },
    "kernelspec": {
      "name": "python3",
      "display_name": "Python 3"
    },
    "accelerator": "GPU"
  },
  "cells": [
    {
      "cell_type": "markdown",
      "metadata": {
        "id": "view-in-github",
        "colab_type": "text"
      },
      "source": [
        "<a href=\"https://colab.research.google.com/github/andrewfeikema/alpha-zero-general/blob/master/Othello_Play_Trial_using_AlphaZero_General.ipynb\" target=\"_parent\"><img src=\"https://colab.research.google.com/assets/colab-badge.svg\" alt=\"Open In Colab\"/></a>"
      ]
    },
    {
      "cell_type": "markdown",
      "metadata": {
        "id": "QwzNOOxwzVCI"
      },
      "source": [
        "# **Mastering Othello Without Human Knowledge**\n",
        "\n",
        "Can a small-scale model perform well at a simple board game without explicit provision of rules or examples? This project is inspired by advancements in general reinforcement learning demonstrated in the Go Game by Google's AlphaZero Model. However, the state space for Go is greater than the number of atoms in the observable universe, so we need a setting like 8x8 Othello with rapid board analysis and a limited set of legal moves.\n"
      ]
    },
    {
      "cell_type": "markdown",
      "metadata": {
        "id": "Idc4uFC31_TH"
      },
      "source": [
        "## **The reinforcement approach**\n",
        "\n",
        "Like AlphaZero, this model plays against itself to refine its approach. One major limitation to this approach is that it cannot acquire common strategies from natural gameplay, so the model's policy must balance exploration and exploitation to develop strategy. This is the advantage of the Monte Carlo method."
      ]
    },
    {
      "cell_type": "markdown",
      "metadata": {
        "id": "sDiYgl6eMaWt"
      },
      "source": [
        "## **Setup, install dependencies**\n",
        "\n",
        "The training process takes advantage of existing implementations for Othello's game logic, gameplay, and the tree search algorithm."
      ]
    },
    {
      "cell_type": "code",
      "metadata": {
        "id": "D3HIlAhFE4rt",
        "colab": {
          "base_uri": "https://localhost:8080/"
        },
        "outputId": "9d5c722f-7658-45eb-f15c-313fdacb6ca6"
      },
      "source": [
        "# Clone repo and install requirements\n",
        "\n",
        "!git clone https://github.com/andrewfeikema/alpha-zero-general.git"
      ],
      "execution_count": 1,
      "outputs": [
        {
          "output_type": "stream",
          "text": [
            "Cloning into 'alpha-zero-general'...\n",
            "remote: Enumerating objects: 1160, done.\u001b[K\n",
            "remote: Counting objects: 100% (109/109), done.\u001b[K\n",
            "remote: Compressing objects: 100% (66/66), done.\u001b[K\n",
            "remote: Total 1160 (delta 47), reused 95 (delta 39), pack-reused 1051\u001b[K\n",
            "Receiving objects: 100% (1160/1160), 992.12 MiB | 23.00 MiB/s, done.\n",
            "Resolving deltas: 100% (623/623), done.\n",
            "Checking out files: 100% (62/62), done.\n"
          ],
          "name": "stdout"
        }
      ]
    },
    {
      "cell_type": "code",
      "metadata": {
        "id": "JtAy44ZQbgH_",
        "colab": {
          "base_uri": "https://localhost:8080/"
        },
        "outputId": "d5e4a57e-fe4d-45d9-9ad3-0811303f5570"
      },
      "source": [
        "%cd '/content/alpha-zero-general'"
      ],
      "execution_count": 2,
      "outputs": [
        {
          "output_type": "stream",
          "text": [
            "/content/alpha-zero-general\n"
          ],
          "name": "stdout"
        }
      ]
    },
    {
      "cell_type": "code",
      "metadata": {
        "id": "FINNt6pobz6u",
        "colab": {
          "base_uri": "https://localhost:8080/"
        },
        "outputId": "c3b36e6a-82d2-48f8-f467-5a5a9070d4a2"
      },
      "source": [
        "!git checkout -t origin/master"
      ],
      "execution_count": 3,
      "outputs": [
        {
          "output_type": "stream",
          "text": [
            "fatal: A branch named 'master' already exists.\n"
          ],
          "name": "stdout"
        }
      ]
    },
    {
      "cell_type": "code",
      "metadata": {
        "id": "q-8kx3_iLSyu",
        "colab": {
          "base_uri": "https://localhost:8080/"
        },
        "outputId": "d2100ff2-d082-41f6-d699-d235df2e194f"
      },
      "source": [
        "!pip install -r docker/requirements.txt"
      ],
      "execution_count": 4,
      "outputs": [
        {
          "output_type": "stream",
          "text": [
            "Requirement already satisfied: cffi==1.14.5 in /usr/local/lib/python3.7/dist-packages (from -r docker/requirements.txt (line 1)) (1.14.5)\n",
            "Collecting coloredlogs==14.0\n",
            "\u001b[?25l  Downloading https://files.pythonhosted.org/packages/5c/2f/12747be360d6dea432e7b5dfae3419132cb008535cfe614af73b9ce2643b/coloredlogs-14.0-py2.py3-none-any.whl (43kB)\n",
            "\u001b[K     |████████████████████████████████| 51kB 3.7MB/s \n",
            "\u001b[?25hCollecting cython==0.29.22\n",
            "\u001b[?25l  Downloading https://files.pythonhosted.org/packages/74/c8/fa46acc8f829b64161a43315f42d2170de8ac961b251654cd81256520d98/Cython-0.29.22-cp37-cp37m-manylinux1_x86_64.whl (2.0MB)\n",
            "\u001b[K     |████████████████████████████████| 2.0MB 9.5MB/s \n",
            "\u001b[?25hRequirement already satisfied: flask==1.1.2 in /usr/local/lib/python3.7/dist-packages (from -r docker/requirements.txt (line 4)) (1.1.2)\n",
            "Collecting gitpython==2.1.11\n",
            "\u001b[?25l  Downloading https://files.pythonhosted.org/packages/fe/e5/fafe827507644c32d6dc553a1c435cdf882e0c28918a5bab29f7fbebfb70/GitPython-2.1.11-py2.py3-none-any.whl (448kB)\n",
            "\u001b[K     |████████████████████████████████| 450kB 29.7MB/s \n",
            "\u001b[?25hRequirement already satisfied: matplotlib==3.2.2 in /usr/local/lib/python3.7/dist-packages (from -r docker/requirements.txt (line 6)) (3.2.2)\n",
            "Requirement already satisfied: numpy==1.19.5 in /usr/local/lib/python3.7/dist-packages (from -r docker/requirements.txt (line 7)) (1.19.5)\n",
            "Requirement already satisfied: pandas==1.1.5 in /usr/local/lib/python3.7/dist-packages (from -r docker/requirements.txt (line 8)) (1.1.5)\n",
            "Collecting scipy==1.1.0\n",
            "\u001b[?25l  Downloading https://files.pythonhosted.org/packages/40/de/0c22c6754370ba6b1fa8e53bd6e514d4a41a181125d405a501c215cbdbd6/scipy-1.1.0-cp37-cp37m-manylinux1_x86_64.whl (31.2MB)\n",
            "\u001b[K     |████████████████████████████████| 31.2MB 163kB/s \n",
            "\u001b[?25hCollecting scikit-learn==0.19.1\n",
            "\u001b[?25l  Downloading https://files.pythonhosted.org/packages/f5/2c/5edf2488897cad4fb8c4ace86369833552615bf264460ae4ef6e1f258982/scikit-learn-0.19.1.tar.gz (9.5MB)\n",
            "\u001b[K     |████████████████████████████████| 9.5MB 26.2MB/s \n",
            "\u001b[?25hCollecting scikit-image==0.14.0\n",
            "\u001b[?25l  Downloading https://files.pythonhosted.org/packages/d6/ae/c9ea76fb37724596bd031e98f7f356936cabc39e5c57f27d56f08e6d52f2/scikit_image-0.14.0-cp37-cp37m-manylinux1_x86_64.whl (25.3MB)\n",
            "\u001b[K     |████████████████████████████████| 25.3MB 109kB/s \n",
            "\u001b[?25hCollecting torchfile==0.1.0\n",
            "  Downloading https://files.pythonhosted.org/packages/91/af/5b305f86f2d218091af657ddb53f984ecbd9518ca9fe8ef4103a007252c9/torchfile-0.1.0.tar.gz\n",
            "Collecting torchvision==0.2.1\n",
            "\u001b[?25l  Downloading https://files.pythonhosted.org/packages/ca/0d/f00b2885711e08bd71242ebe7b96561e6f6d01fdb4b9dcf4d37e2e13c5e1/torchvision-0.2.1-py2.py3-none-any.whl (54kB)\n",
            "\u001b[K     |████████████████████████████████| 61kB 7.8MB/s \n",
            "\u001b[?25hCollecting tqdm==4.19.5\n",
            "\u001b[?25l  Downloading https://files.pythonhosted.org/packages/71/3c/341b4fa23cb3abc335207dba057c790f3bb329f6757e1fcd5d347bcf8308/tqdm-4.19.5-py2.py3-none-any.whl (51kB)\n",
            "\u001b[K     |████████████████████████████████| 61kB 8.1MB/s \n",
            "\u001b[?25hCollecting visdom==0.1.7\n",
            "\u001b[?25l  Downloading https://files.pythonhosted.org/packages/0e/f2/27b5d7c34b718afb355587d4e0c1f9108e925db4c0c932e935ba01051efd/visdom-0.1.7.tar.gz (43kB)\n",
            "\u001b[K     |████████████████████████████████| 51kB 6.8MB/s \n",
            "\u001b[?25hRequirement already satisfied: pycparser in /usr/local/lib/python3.7/dist-packages (from cffi==1.14.5->-r docker/requirements.txt (line 1)) (2.20)\n",
            "Collecting humanfriendly>=7.1\n",
            "\u001b[?25l  Downloading https://files.pythonhosted.org/packages/93/66/363d01a81da2108a5cf446daf619779f06d49a0c4426dd02b40734f10e2f/humanfriendly-9.1-py2.py3-none-any.whl (86kB)\n",
            "\u001b[K     |████████████████████████████████| 92kB 10.1MB/s \n",
            "\u001b[?25hRequirement already satisfied: Werkzeug>=0.15 in /usr/local/lib/python3.7/dist-packages (from flask==1.1.2->-r docker/requirements.txt (line 4)) (1.0.1)\n",
            "Requirement already satisfied: Jinja2>=2.10.1 in /usr/local/lib/python3.7/dist-packages (from flask==1.1.2->-r docker/requirements.txt (line 4)) (2.11.3)\n",
            "Requirement already satisfied: click>=5.1 in /usr/local/lib/python3.7/dist-packages (from flask==1.1.2->-r docker/requirements.txt (line 4)) (7.1.2)\n",
            "Requirement already satisfied: itsdangerous>=0.24 in /usr/local/lib/python3.7/dist-packages (from flask==1.1.2->-r docker/requirements.txt (line 4)) (1.1.0)\n",
            "Collecting gitdb2>=2.0.0\n",
            "  Downloading https://files.pythonhosted.org/packages/52/7e/59f96b47f671b3fe0aa0c1b609531a540434b719a10c417581e25b383909/gitdb2-4.0.2-py3-none-any.whl\n",
            "Requirement already satisfied: cycler>=0.10 in /usr/local/lib/python3.7/dist-packages (from matplotlib==3.2.2->-r docker/requirements.txt (line 6)) (0.10.0)\n",
            "Requirement already satisfied: python-dateutil>=2.1 in /usr/local/lib/python3.7/dist-packages (from matplotlib==3.2.2->-r docker/requirements.txt (line 6)) (2.8.1)\n",
            "Requirement already satisfied: kiwisolver>=1.0.1 in /usr/local/lib/python3.7/dist-packages (from matplotlib==3.2.2->-r docker/requirements.txt (line 6)) (1.3.1)\n",
            "Requirement already satisfied: pyparsing!=2.0.4,!=2.1.2,!=2.1.6,>=2.0.1 in /usr/local/lib/python3.7/dist-packages (from matplotlib==3.2.2->-r docker/requirements.txt (line 6)) (2.4.7)\n",
            "Requirement already satisfied: pytz>=2017.2 in /usr/local/lib/python3.7/dist-packages (from pandas==1.1.5->-r docker/requirements.txt (line 8)) (2018.9)\n",
            "Requirement already satisfied: six>=1.10.0 in /usr/local/lib/python3.7/dist-packages (from scikit-image==0.14.0->-r docker/requirements.txt (line 11)) (1.15.0)\n",
            "Requirement already satisfied: pillow>=4.3.0 in /usr/local/lib/python3.7/dist-packages (from scikit-image==0.14.0->-r docker/requirements.txt (line 11)) (7.1.2)\n",
            "Requirement already satisfied: cloudpickle>=0.2.1 in /usr/local/lib/python3.7/dist-packages (from scikit-image==0.14.0->-r docker/requirements.txt (line 11)) (1.3.0)\n",
            "Requirement already satisfied: dask[array]>=0.9.0 in /usr/local/lib/python3.7/dist-packages (from scikit-image==0.14.0->-r docker/requirements.txt (line 11)) (2.12.0)\n",
            "Requirement already satisfied: networkx>=1.8 in /usr/local/lib/python3.7/dist-packages (from scikit-image==0.14.0->-r docker/requirements.txt (line 11)) (2.5.1)\n",
            "Requirement already satisfied: PyWavelets>=0.4.0 in /usr/local/lib/python3.7/dist-packages (from scikit-image==0.14.0->-r docker/requirements.txt (line 11)) (1.1.1)\n",
            "Requirement already satisfied: torch in /usr/local/lib/python3.7/dist-packages (from torchvision==0.2.1->-r docker/requirements.txt (line 13)) (1.8.1+cu101)\n",
            "Requirement already satisfied: requests in /usr/local/lib/python3.7/dist-packages (from visdom==0.1.7->-r docker/requirements.txt (line 15)) (2.23.0)\n",
            "Requirement already satisfied: tornado in /usr/local/lib/python3.7/dist-packages (from visdom==0.1.7->-r docker/requirements.txt (line 15)) (5.1.1)\n",
            "Requirement already satisfied: pyzmq in /usr/local/lib/python3.7/dist-packages (from visdom==0.1.7->-r docker/requirements.txt (line 15)) (22.0.3)\n",
            "Requirement already satisfied: MarkupSafe>=0.23 in /usr/local/lib/python3.7/dist-packages (from Jinja2>=2.10.1->flask==1.1.2->-r docker/requirements.txt (line 4)) (1.1.1)\n",
            "Collecting gitdb>=4.0.1\n",
            "\u001b[?25l  Downloading https://files.pythonhosted.org/packages/ea/e8/f414d1a4f0bbc668ed441f74f44c116d9816833a48bf81d22b697090dba8/gitdb-4.0.7-py3-none-any.whl (63kB)\n",
            "\u001b[K     |████████████████████████████████| 71kB 8.4MB/s \n",
            "\u001b[?25hRequirement already satisfied: toolz>=0.7.3; extra == \"array\" in /usr/local/lib/python3.7/dist-packages (from dask[array]>=0.9.0->scikit-image==0.14.0->-r docker/requirements.txt (line 11)) (0.11.1)\n",
            "Requirement already satisfied: decorator<5,>=4.3 in /usr/local/lib/python3.7/dist-packages (from networkx>=1.8->scikit-image==0.14.0->-r docker/requirements.txt (line 11)) (4.4.2)\n",
            "Requirement already satisfied: typing-extensions in /usr/local/lib/python3.7/dist-packages (from torch->torchvision==0.2.1->-r docker/requirements.txt (line 13)) (3.7.4.3)\n",
            "Requirement already satisfied: idna<3,>=2.5 in /usr/local/lib/python3.7/dist-packages (from requests->visdom==0.1.7->-r docker/requirements.txt (line 15)) (2.10)\n",
            "Requirement already satisfied: chardet<4,>=3.0.2 in /usr/local/lib/python3.7/dist-packages (from requests->visdom==0.1.7->-r docker/requirements.txt (line 15)) (3.0.4)\n",
            "Requirement already satisfied: certifi>=2017.4.17 in /usr/local/lib/python3.7/dist-packages (from requests->visdom==0.1.7->-r docker/requirements.txt (line 15)) (2020.12.5)\n",
            "Requirement already satisfied: urllib3!=1.25.0,!=1.25.1,<1.26,>=1.21.1 in /usr/local/lib/python3.7/dist-packages (from requests->visdom==0.1.7->-r docker/requirements.txt (line 15)) (1.24.3)\n",
            "Collecting smmap<5,>=3.0.1\n",
            "  Downloading https://files.pythonhosted.org/packages/68/ee/d540eb5e5996eb81c26ceffac6ee49041d473bc5125f2aa995cf51ec1cf1/smmap-4.0.0-py2.py3-none-any.whl\n",
            "Building wheels for collected packages: scikit-learn, torchfile, visdom\n",
            "  Building wheel for scikit-learn (setup.py) ... \u001b[?25lerror\n",
            "\u001b[31m  ERROR: Failed building wheel for scikit-learn\u001b[0m\n",
            "\u001b[?25h  Running setup.py clean for scikit-learn\n",
            "  Building wheel for torchfile (setup.py) ... \u001b[?25l\u001b[?25hdone\n",
            "  Created wheel for torchfile: filename=torchfile-0.1.0-cp37-none-any.whl size=5713 sha256=0daa216fd34ad91e1416b6e693f95017d6fd339d56660e1d771bda0564d874a9\n",
            "  Stored in directory: /root/.cache/pip/wheels/b1/c3/d6/9a1cc8f3a99a0fc1124cae20153f36af59a6e683daca0a0814\n",
            "  Building wheel for visdom (setup.py) ... \u001b[?25l\u001b[?25hdone\n",
            "  Created wheel for visdom: filename=visdom-0.1.7-cp37-none-any.whl size=34498 sha256=58862735f4efed77821cf7d497deb7331796e23a9c687e1daa5643dd9f36ce4e\n",
            "  Stored in directory: /root/.cache/pip/wheels/5c/ea/0f/4e3a4b23f352c708d36d3a7ff654fb014f893f50baa88f2d29\n",
            "Successfully built torchfile visdom\n",
            "Failed to build scikit-learn\n",
            "\u001b[31mERROR: yellowbrick 0.9.1 has requirement scikit-learn>=0.20, but you'll have scikit-learn 0.19.1 which is incompatible.\u001b[0m\n",
            "\u001b[31mERROR: spacy 2.2.4 has requirement tqdm<5.0.0,>=4.38.0, but you'll have tqdm 4.19.5 which is incompatible.\u001b[0m\n",
            "\u001b[31mERROR: pymc3 3.11.2 has requirement scipy>=1.2.0, but you'll have scipy 1.1.0 which is incompatible.\u001b[0m\n",
            "\u001b[31mERROR: plotnine 0.6.0 has requirement scipy>=1.2.0, but you'll have scipy 1.1.0 which is incompatible.\u001b[0m\n",
            "\u001b[31mERROR: imbalanced-learn 0.4.3 has requirement scikit-learn>=0.20, but you'll have scikit-learn 0.19.1 which is incompatible.\u001b[0m\n",
            "\u001b[31mERROR: fbprophet 0.7.1 has requirement tqdm>=4.36.1, but you'll have tqdm 4.19.5 which is incompatible.\u001b[0m\n",
            "\u001b[31mERROR: albumentations 0.1.12 has requirement imgaug<0.2.7,>=0.2.5, but you'll have imgaug 0.2.9 which is incompatible.\u001b[0m\n",
            "Installing collected packages: humanfriendly, coloredlogs, cython, smmap, gitdb, gitdb2, gitpython, scipy, scikit-learn, scikit-image, torchfile, torchvision, tqdm, visdom\n",
            "  Found existing installation: Cython 0.29.23\n",
            "    Uninstalling Cython-0.29.23:\n",
            "      Successfully uninstalled Cython-0.29.23\n",
            "  Found existing installation: scipy 1.4.1\n",
            "    Uninstalling scipy-1.4.1:\n",
            "      Successfully uninstalled scipy-1.4.1\n",
            "  Found existing installation: scikit-learn 0.22.2.post1\n",
            "    Uninstalling scikit-learn-0.22.2.post1:\n",
            "      Successfully uninstalled scikit-learn-0.22.2.post1\n",
            "    Running setup.py install for scikit-learn ... \u001b[?25l\u001b[?25herror\n",
            "  Rolling back uninstall of scikit-learn\n",
            "  Moving to /usr/local/lib/python3.7/dist-packages/scikit_learn-0.22.2.post1.dist-info/\n",
            "   from /usr/local/lib/python3.7/dist-packages/~cikit_learn-0.22.2.post1.dist-info\n",
            "  Moving to /usr/local/lib/python3.7/dist-packages/sklearn/\n",
            "   from /usr/local/lib/python3.7/dist-packages/~klearn\n",
            "\u001b[31mERROR: Command errored out with exit status 1: /usr/bin/python3 -u -c 'import sys, setuptools, tokenize; sys.argv[0] = '\"'\"'/tmp/pip-install-3hf8emfc/scikit-learn/setup.py'\"'\"'; __file__='\"'\"'/tmp/pip-install-3hf8emfc/scikit-learn/setup.py'\"'\"';f=getattr(tokenize, '\"'\"'open'\"'\"', open)(__file__);code=f.read().replace('\"'\"'\\r\\n'\"'\"', '\"'\"'\\n'\"'\"');f.close();exec(compile(code, __file__, '\"'\"'exec'\"'\"'))' install --record /tmp/pip-record-4f9g0aee/install-record.txt --single-version-externally-managed --compile Check the logs for full command output.\u001b[0m\n"
          ],
          "name": "stdout"
        }
      ]
    },
    {
      "cell_type": "markdown",
      "metadata": {
        "id": "FJC2hqcSN0NY"
      },
      "source": [
        "# **Instantiate players**"
      ]
    },
    {
      "cell_type": "code",
      "metadata": {
        "id": "pRpskKggPHAo"
      },
      "source": [
        "import os\n",
        "import numpy as np\n",
        "\n",
        "import Arena\n",
        "from MCTS import MCTS\n",
        "from othello.OthelloGame import OthelloGame\n",
        "from othello.OthelloPlayers import HumanOthelloPlayer, RandomPlayer, GreedyOthelloPlayer\n",
        "from othello.pytorch.NNet import NNetWrapper\n",
        "\n",
        "from utils import dotdict"
      ],
      "execution_count": 5,
      "outputs": []
    },
    {
      "cell_type": "code",
      "metadata": {
        "id": "RJfaPANvQP9N"
      },
      "source": [
        "game = OthelloGame(n=8)"
      ],
      "execution_count": 6,
      "outputs": []
    },
    {
      "cell_type": "code",
      "metadata": {
        "id": "kTfwr_W5se8v"
      },
      "source": [
        "grp1 = GreedyOthelloPlayer(game).play"
      ],
      "execution_count": 7,
      "outputs": []
    },
    {
      "cell_type": "code",
      "metadata": {
        "id": "F7g7j_AfNoY3"
      },
      "source": [
        "numMCTSSims = 50"
      ],
      "execution_count": 8,
      "outputs": []
    },
    {
      "cell_type": "code",
      "metadata": {
        "id": "Ufmxe9LOsg5K",
        "colab": {
          "base_uri": "https://localhost:8080/"
        },
        "outputId": "eb12da4f-3507-43a7-97de-a85ac42933ba"
      },
      "source": [
        "nnet1 = NNetWrapper(game)\n",
        "nnet1.load_checkpoint(os.path.join('pretrained_models', 'othello', 'pytorch', '5-pm-checkpoints'), 'best.pth.tar')\n",
        "args1 = dotdict({'numMCTSSims': numMCTSSims, 'cpuct': 1.0})\n",
        "mcts1 = MCTS(game, nnet1, args1)\n",
        "alphazero1 = lambda x: np.argmax(mcts1.getActionProb(x, temp=0))"
      ],
      "execution_count": 14,
      "outputs": [
        {
          "output_type": "execute_result",
          "data": {
            "text/plain": [
              "<othello.OthelloGame.OthelloGame at 0x7fd7e8422990>"
            ]
          },
          "metadata": {
            "tags": []
          },
          "execution_count": 14
        }
      ]
    },
    {
      "cell_type": "markdown",
      "metadata": {
        "id": "h-QS9kRLPWKv"
      },
      "source": [
        "# **Play *Greedy Random* vs *AlphaZero***\n",
        "\n",
        "In playing 50 games, AlphaZero is considerably slower than the greedy approach. 50 games take roughly 5 minutes."
      ]
    },
    {
      "cell_type": "code",
      "metadata": {
        "id": "1cSmiFO-tjsr",
        "colab": {
          "base_uri": "https://localhost:8080/"
        },
        "outputId": "83b5c890-236e-47ae-fdbd-024b5d56b325"
      },
      "source": [
        "# Play Greedy Random vs AlphaZero\n",
        "player1 = grp1\n",
        "player2 = alphazero1\n",
        "arena = Arena.Arena(player1, player2, game, display=OthelloGame.display)\n",
        "%time oneWon, twoWon, draws = arena.playGames(50, verbose=False)\n",
        "print(\"\\nGreedy Random won {} games, Alpha Zero won {} games\".format(oneWon, twoWon))"
      ],
      "execution_count": 10,
      "outputs": [
        {
          "output_type": "stream",
          "text": [
            "Arena.playGames (1): 100%|██████████| 25/25 [02:18<00:00,  5.53s/it]\n",
            "Arena.playGames (2): 100%|██████████| 25/25 [02:08<00:00,  5.14s/it]"
          ],
          "name": "stderr"
        },
        {
          "output_type": "stream",
          "text": [
            "CPU times: user 4min 27s, sys: 1.66 s, total: 4min 28s\n",
            "Wall time: 4min 26s\n",
            "\n",
            "Greedy Random won 5 games, Alpha Zero won 45 games\n"
          ],
          "name": "stdout"
        },
        {
          "output_type": "stream",
          "text": [
            "\n"
          ],
          "name": "stderr"
        }
      ]
    },
    {
      "cell_type": "markdown",
      "metadata": {
        "id": "NTff2UhV74BR"
      },
      "source": [
        "# **Tracking progress:**\n",
        "Checkpoint models against a greedy player"
      ]
    },
    {
      "cell_type": "code",
      "metadata": {
        "colab": {
          "base_uri": "https://localhost:8080/"
        },
        "id": "RF56CA_A610v",
        "outputId": "3f03a6ff-8dba-43ba-860c-847b5e19298d"
      },
      "source": [
        "# Show file locations of checkpoint models\n",
        "\n",
        "models3 = ['checkpoint_1.pth.tar', 'checkpoint_2.pth.tar', 'checkpoint_3.pth.tar', 'checkpoint_5.pth.tar', 'checkpoint_8.pth.tar', 'checkpoint_10.pth.tar' ]\n",
        "models5 = ['checkpoint_1.pth.tar', 'checkpoint_2.pth.tar', 'checkpoint_3.pth.tar', 'checkpoint_4.pth.tar', 'checkpoint_5.pth.tar', 'checkpoint_6.pth.tar', 'checkpoint_7.pth.tar', 'checkpoint_8.pth.tar', 'checkpoint_10.pth.tar' ]\n",
        "all_models = [(models3, '3-pm-checkpoints'), (models5, '5-pm-checkpoints')]\n",
        "all_models"
      ],
      "execution_count": 14,
      "outputs": [
        {
          "output_type": "execute_result",
          "data": {
            "text/plain": [
              "[(['checkpoint_1.pth.tar',\n",
              "   'checkpoint_2.pth.tar',\n",
              "   'checkpoint_3.pth.tar',\n",
              "   'checkpoint_5.pth.tar',\n",
              "   'checkpoint_8.pth.tar',\n",
              "   'checkpoint_10.pth.tar'],\n",
              "  '3-pm-checkpoints'),\n",
              " (['checkpoint_1.pth.tar',\n",
              "   'checkpoint_2.pth.tar',\n",
              "   'checkpoint_3.pth.tar',\n",
              "   'checkpoint_4.pth.tar',\n",
              "   'checkpoint_5.pth.tar',\n",
              "   'checkpoint_6.pth.tar',\n",
              "   'checkpoint_7.pth.tar',\n",
              "   'checkpoint_8.pth.tar',\n",
              "   'checkpoint_10.pth.tar'],\n",
              "  '5-pm-checkpoints')]"
            ]
          },
          "metadata": {
            "tags": []
          },
          "execution_count": 14
        }
      ]
    },
    {
      "cell_type": "code",
      "metadata": {
        "colab": {
          "base_uri": "https://localhost:8080/"
        },
        "id": "uKPf8ryE8fBR",
        "outputId": "6e03ad45-46c7-4e6c-838a-81e7eab7bc3c"
      },
      "source": [
        "args1 = dotdict({'numMCTSSims': numMCTSSims, 'cpuct': 1.0})\n",
        "player1 = grp1\n",
        "\n",
        "\n",
        "for set in all_models:\n",
        "  for checkpoint in set[0]:\n",
        "    nnetwrapper = NNetWrapper(game)\n",
        "    nnetwrapper.load_checkpoint(os.path.join('pretrained_models', 'othello', 'pytorch', set[1]), checkpoint)\n",
        "    mctstree = MCTS(game, nnetwrapper, args1)\n",
        "    alphazero1 = lambda x: np.argmax(mctstree.getActionProb(x, temp=0))\n",
        "    player2 = alphazero1\n",
        "    arena = Arena.Arena(player1, player2, game, display=OthelloGame.display)\n",
        "    %time oneWon, twoWon, draws = arena.playGames(50, verbose=False)\n",
        "    print(\"\\nGreedy Random won {} games, Alpha Zero won {} games\".format(oneWon, twoWon))"
      ],
      "execution_count": 15,
      "outputs": [
        {
          "output_type": "stream",
          "text": [
            "Arena.playGames (1): 100%|██████████| 25/25 [01:31<00:00,  3.65s/it]\n",
            "Arena.playGames (2): 100%|██████████| 25/25 [01:34<00:00,  3.76s/it]\n"
          ],
          "name": "stderr"
        },
        {
          "output_type": "stream",
          "text": [
            "CPU times: user 3min 5s, sys: 734 ms, total: 3min 5s\n",
            "Wall time: 3min 5s\n",
            "\n",
            "Greedy Random won 26 games, Alpha Zero won 24 games\n"
          ],
          "name": "stdout"
        },
        {
          "output_type": "stream",
          "text": [
            "Arena.playGames (1): 100%|██████████| 25/25 [01:36<00:00,  3.87s/it]\n",
            "Arena.playGames (2): 100%|██████████| 25/25 [01:36<00:00,  3.86s/it]\n"
          ],
          "name": "stderr"
        },
        {
          "output_type": "stream",
          "text": [
            "CPU times: user 3min 13s, sys: 736 ms, total: 3min 14s\n",
            "Wall time: 3min 13s\n",
            "\n",
            "Greedy Random won 12 games, Alpha Zero won 38 games\n"
          ],
          "name": "stdout"
        },
        {
          "output_type": "stream",
          "text": [
            "Arena.playGames (1): 100%|██████████| 25/25 [01:39<00:00,  3.99s/it]\n",
            "Arena.playGames (2): 100%|██████████| 25/25 [01:40<00:00,  4.03s/it]\n"
          ],
          "name": "stderr"
        },
        {
          "output_type": "stream",
          "text": [
            "CPU times: user 3min 20s, sys: 847 ms, total: 3min 21s\n",
            "Wall time: 3min 20s\n",
            "\n",
            "Greedy Random won 18 games, Alpha Zero won 32 games\n"
          ],
          "name": "stdout"
        },
        {
          "output_type": "stream",
          "text": [
            "Arena.playGames (1): 100%|██████████| 25/25 [01:41<00:00,  4.08s/it]\n",
            "Arena.playGames (2): 100%|██████████| 25/25 [01:36<00:00,  3.86s/it]\n"
          ],
          "name": "stderr"
        },
        {
          "output_type": "stream",
          "text": [
            "CPU times: user 3min 18s, sys: 857 ms, total: 3min 19s\n",
            "Wall time: 3min 18s\n",
            "\n",
            "Greedy Random won 7 games, Alpha Zero won 43 games\n"
          ],
          "name": "stdout"
        },
        {
          "output_type": "stream",
          "text": [
            "Arena.playGames (1): 100%|██████████| 25/25 [01:42<00:00,  4.09s/it]\n",
            "Arena.playGames (2): 100%|██████████| 25/25 [01:42<00:00,  4.09s/it]\n"
          ],
          "name": "stderr"
        },
        {
          "output_type": "stream",
          "text": [
            "CPU times: user 3min 24s, sys: 864 ms, total: 3min 25s\n",
            "Wall time: 3min 24s\n",
            "\n",
            "Greedy Random won 9 games, Alpha Zero won 41 games\n"
          ],
          "name": "stdout"
        },
        {
          "output_type": "stream",
          "text": [
            "Arena.playGames (1): 100%|██████████| 25/25 [01:43<00:00,  4.15s/it]\n",
            "Arena.playGames (2): 100%|██████████| 25/25 [01:39<00:00,  4.00s/it]\n"
          ],
          "name": "stderr"
        },
        {
          "output_type": "stream",
          "text": [
            "CPU times: user 3min 23s, sys: 861 ms, total: 3min 24s\n",
            "Wall time: 3min 23s\n",
            "\n",
            "Greedy Random won 5 games, Alpha Zero won 45 games\n"
          ],
          "name": "stdout"
        },
        {
          "output_type": "stream",
          "text": [
            "Arena.playGames (1): 100%|██████████| 25/25 [01:29<00:00,  3.58s/it]\n",
            "Arena.playGames (2): 100%|██████████| 25/25 [01:32<00:00,  3.70s/it]\n"
          ],
          "name": "stderr"
        },
        {
          "output_type": "stream",
          "text": [
            "CPU times: user 3min 2s, sys: 619 ms, total: 3min 2s\n",
            "Wall time: 3min 2s\n",
            "\n",
            "Greedy Random won 24 games, Alpha Zero won 26 games\n"
          ],
          "name": "stdout"
        },
        {
          "output_type": "stream",
          "text": [
            "Arena.playGames (1): 100%|██████████| 25/25 [01:35<00:00,  3.81s/it]\n",
            "Arena.playGames (2): 100%|██████████| 25/25 [01:35<00:00,  3.84s/it]\n"
          ],
          "name": "stderr"
        },
        {
          "output_type": "stream",
          "text": [
            "CPU times: user 3min 11s, sys: 710 ms, total: 3min 12s\n",
            "Wall time: 3min 11s\n",
            "\n",
            "Greedy Random won 9 games, Alpha Zero won 41 games\n"
          ],
          "name": "stdout"
        },
        {
          "output_type": "stream",
          "text": [
            "Arena.playGames (1): 100%|██████████| 25/25 [01:33<00:00,  3.76s/it]\n",
            "Arena.playGames (2): 100%|██████████| 25/25 [01:37<00:00,  3.91s/it]\n"
          ],
          "name": "stderr"
        },
        {
          "output_type": "stream",
          "text": [
            "CPU times: user 3min 11s, sys: 732 ms, total: 3min 12s\n",
            "Wall time: 3min 11s\n",
            "\n",
            "Greedy Random won 17 games, Alpha Zero won 33 games\n"
          ],
          "name": "stdout"
        },
        {
          "output_type": "stream",
          "text": [
            "Arena.playGames (1): 100%|██████████| 25/25 [01:38<00:00,  3.95s/it]\n",
            "Arena.playGames (2): 100%|██████████| 25/25 [01:39<00:00,  3.99s/it]\n"
          ],
          "name": "stderr"
        },
        {
          "output_type": "stream",
          "text": [
            "CPU times: user 3min 18s, sys: 860 ms, total: 3min 19s\n",
            "Wall time: 3min 18s\n",
            "\n",
            "Greedy Random won 7 games, Alpha Zero won 43 games\n"
          ],
          "name": "stdout"
        },
        {
          "output_type": "stream",
          "text": [
            "Arena.playGames (1): 100%|██████████| 25/25 [01:47<00:00,  4.30s/it]\n",
            "Arena.playGames (2): 100%|██████████| 25/25 [01:37<00:00,  3.90s/it]\n"
          ],
          "name": "stderr"
        },
        {
          "output_type": "stream",
          "text": [
            "CPU times: user 3min 25s, sys: 869 ms, total: 3min 26s\n",
            "Wall time: 3min 25s\n",
            "\n",
            "Greedy Random won 7 games, Alpha Zero won 43 games\n"
          ],
          "name": "stdout"
        },
        {
          "output_type": "stream",
          "text": [
            "Arena.playGames (1): 100%|██████████| 25/25 [01:43<00:00,  4.13s/it]\n",
            "Arena.playGames (2): 100%|██████████| 25/25 [01:41<00:00,  4.08s/it]\n"
          ],
          "name": "stderr"
        },
        {
          "output_type": "stream",
          "text": [
            "CPU times: user 3min 25s, sys: 983 ms, total: 3min 26s\n",
            "Wall time: 3min 25s\n",
            "\n",
            "Greedy Random won 5 games, Alpha Zero won 45 games\n"
          ],
          "name": "stdout"
        },
        {
          "output_type": "stream",
          "text": [
            "Arena.playGames (1): 100%|██████████| 25/25 [01:47<00:00,  4.29s/it]\n",
            "Arena.playGames (2): 100%|██████████| 25/25 [01:50<00:00,  4.43s/it]\n"
          ],
          "name": "stderr"
        },
        {
          "output_type": "stream",
          "text": [
            "CPU times: user 3min 38s, sys: 1.11 s, total: 3min 39s\n",
            "Wall time: 3min 37s\n",
            "\n",
            "Greedy Random won 4 games, Alpha Zero won 46 games\n"
          ],
          "name": "stdout"
        },
        {
          "output_type": "stream",
          "text": [
            "Arena.playGames (1): 100%|██████████| 25/25 [01:43<00:00,  4.12s/it]\n",
            "Arena.playGames (2): 100%|██████████| 25/25 [01:41<00:00,  4.07s/it]\n"
          ],
          "name": "stderr"
        },
        {
          "output_type": "stream",
          "text": [
            "CPU times: user 3min 25s, sys: 795 ms, total: 3min 25s\n",
            "Wall time: 3min 24s\n",
            "\n",
            "Greedy Random won 9 games, Alpha Zero won 41 games\n"
          ],
          "name": "stdout"
        },
        {
          "output_type": "stream",
          "text": [
            "Arena.playGames (1): 100%|██████████| 25/25 [01:47<00:00,  4.28s/it]\n",
            "Arena.playGames (2): 100%|██████████| 25/25 [01:37<00:00,  3.91s/it]"
          ],
          "name": "stderr"
        },
        {
          "output_type": "stream",
          "text": [
            "CPU times: user 3min 25s, sys: 837 ms, total: 3min 26s\n",
            "Wall time: 3min 24s\n",
            "\n",
            "Greedy Random won 5 games, Alpha Zero won 45 games\n"
          ],
          "name": "stdout"
        },
        {
          "output_type": "stream",
          "text": [
            "\n"
          ],
          "name": "stderr"
        }
      ]
    },
    {
      "cell_type": "markdown",
      "metadata": {
        "id": "jZG7aAEiNIV_"
      },
      "source": [
        "#### **How has the model evolved?**"
      ]
    },
    {
      "cell_type": "code",
      "metadata": {
        "colab": {
          "base_uri": "https://localhost:8080/",
          "height": 281
        },
        "id": "Mt67G0OpKsAd",
        "outputId": "ee1de44e-c847-4ff5-b626-f7227bcb797f"
      },
      "source": [
        "import matplotlib.pyplot as plt\n",
        "#note: neglected to export win counts from above cell for analysis- had to enter manually\n",
        "x = [1,2,3,5,8,11,12,13,14,15,16,17,18,20]\n",
        "y = [24,38,32,43,41,45,26,41,33,43,45,46,41,45]\n",
        "coef = np.polyfit(x,y,2)\n",
        "plt.plot(x, y, 'ro', x, np.poly1d(coef)(x), '--k')\n",
        "plt.axis([0,24,0, 50])\n",
        "plt.title('AlphaZero model against \\'greedy\\' player')\n",
        "plt.ylabel('Wins (n=50)')\n",
        "plt.show()"
      ],
      "execution_count": 30,
      "outputs": [
        {
          "output_type": "display_data",
          "data": {
            "image/png": "[encoded data removed]",
            "text/plain": [
              "<Figure size 432x288 with 1 Axes>"
            ]
          },
          "metadata": {
            "tags": [],
            "needs_background": "light"
          }
        }
      ]
    },
    {
      "cell_type": "markdown",
      "metadata": {
        "id": "Q7opB7F2rO9x"
      },
      "source": [
        "The model appears to initially make quick progress after successive iterations. After 10 iterations of 10 epochs of self-play, there is still room for improvement in overcoming the 'greedy' strategy."
      ]
    },
    {
      "cell_type": "markdown",
      "metadata": {
        "id": "-9-lgefNW7Xh"
      },
      "source": [
        "# **Play against *AlphaZero***\n",
        "\n",
        "You can try playing against AlphaZero.\n",
        "You will play one game as the second player and one as the first player.\n"
      ]
    },
    {
      "cell_type": "code",
      "metadata": {
        "id": "nmKO4YJlSQai"
      },
      "source": [
        "# Play Greedy Random vs AlphaZero\n",
        "hp1 = HumanOthelloPlayer(game).play\n",
        "player1 = hp1\n",
        "player2 = alphazero1\n",
        "arena = Arena.Arena(player1, player2, game, display=OthelloGame.display)\n",
        "oneWon, twoWon, draws = arena.playGames(2, verbose=True)\n",
        "print(\"You won {} games, Alpha Zero won {} games\".format(oneWon, twoWon))"
      ],
      "execution_count": null,
      "outputs": []
    },
    {
      "cell_type": "markdown",
      "metadata": {
        "id": "eP1O2fVOqp2v"
      },
      "source": [
        "# **Exploring the model**\n",
        "\n",
        "#### **Uncovering shapes and connections**\n",
        "\n",
        "Given a board state, the MCTS algorithm provides a policy, a set of likelihoods of preference for each action. "
      ]
    },
    {
      "cell_type": "code",
      "metadata": {
        "id": "yQBkowzxq_sq"
      },
      "source": [
        ""
      ],
      "execution_count": null,
      "outputs": []
    }
  ]
}